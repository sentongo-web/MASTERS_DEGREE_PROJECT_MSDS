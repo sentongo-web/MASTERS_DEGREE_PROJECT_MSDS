{
  "cells": [
    {
      "cell_type": "markdown",
      "metadata": {
        "id": "view-in-github",
        "colab_type": "text"
      },
      "source": [
        "<a href=\"https://colab.research.google.com/github/sentongo-web/MASTERS_DEGREE_PROJECT_MSDS/blob/main/EDA.ipynb\" target=\"_parent\"><img src=\"https://colab.research.google.com/assets/colab-badge.svg\" alt=\"Open In Colab\"/></a>"
      ]
    },
    {
      "cell_type": "markdown",
      "id": "a110ac0f",
      "metadata": {
        "id": "a110ac0f"
      },
      "source": [
        "# Customs Import Declaration Dataset Analysis"
      ]
    },
    {
      "cell_type": "code",
      "execution_count": null,
      "id": "9b56ae58",
      "metadata": {
        "id": "9b56ae58"
      },
      "outputs": [],
      "source": [
        "import pandas as pd\n",
        "import matplotlib.pyplot as plt\n",
        "import seaborn as sns\n",
        "import numpy as np\n",
        "sns.set_color_codes(\"muted\")"
      ]
    },
    {
      "cell_type": "markdown",
      "id": "374d81a6",
      "metadata": {
        "id": "374d81a6"
      },
      "source": [
        "## Introduction\n",
        "Our dataset is synthetic customs import declarations. Each row contains the information of each report on the imported goods and each column indicates the attributes of the import declaration form."
      ]
    },
    {
      "cell_type": "markdown",
      "id": "d77bcac1",
      "metadata": {
        "id": "d77bcac1"
      },
      "source": [
        "## Peek the Data"
      ]
    },
    {
      "cell_type": "code",
      "execution_count": null,
      "id": "b43a6a0a",
      "metadata": {
        "id": "b43a6a0a"
      },
      "outputs": [],
      "source": [
        "df = pd.read_csv(\"./data/df_syn_eng.csv\")"
      ]
    },
    {
      "cell_type": "code",
      "execution_count": null,
      "id": "22823840",
      "metadata": {
        "scrolled": false,
        "id": "22823840",
        "outputId": "44b0a111-fe37-4dc5-af7f-3202d9001486"
      },
      "outputs": [
        {
          "data": {
            "text/html": [
              "<div>\n",
              "<style scoped>\n",
              "    .dataframe tbody tr th:only-of-type {\n",
              "        vertical-align: middle;\n",
              "    }\n",
              "\n",
              "    .dataframe tbody tr th {\n",
              "        vertical-align: top;\n",
              "    }\n",
              "\n",
              "    .dataframe thead th {\n",
              "        text-align: right;\n",
              "    }\n",
              "</style>\n",
              "<table border=\"1\" class=\"dataframe\">\n",
              "  <thead>\n",
              "    <tr style=\"text-align: right;\">\n",
              "      <th></th>\n",
              "      <th>Declaration ID</th>\n",
              "      <th>Date</th>\n",
              "      <th>Office ID</th>\n",
              "      <th>Process Type</th>\n",
              "      <th>Import Type</th>\n",
              "      <th>Import Use</th>\n",
              "      <th>Payment Type</th>\n",
              "      <th>Mode of Transport</th>\n",
              "      <th>Declarant ID</th>\n",
              "      <th>Importer ID</th>\n",
              "      <th>...</th>\n",
              "      <th>HS6 Code</th>\n",
              "      <th>Country of Departure</th>\n",
              "      <th>Country of Origin</th>\n",
              "      <th>Tax Rate</th>\n",
              "      <th>Tax Type</th>\n",
              "      <th>Country of Origin Indicator</th>\n",
              "      <th>Net Mass</th>\n",
              "      <th>Item Price</th>\n",
              "      <th>Fraud</th>\n",
              "      <th>Critical Fraud</th>\n",
              "    </tr>\n",
              "  </thead>\n",
              "  <tbody>\n",
              "    <tr>\n",
              "      <th>0</th>\n",
              "      <td>97061800</td>\n",
              "      <td>2020-01-01</td>\n",
              "      <td>30</td>\n",
              "      <td>B</td>\n",
              "      <td>11</td>\n",
              "      <td>21</td>\n",
              "      <td>11</td>\n",
              "      <td>10</td>\n",
              "      <td>ZZR1LT6</td>\n",
              "      <td>QLRUBN9</td>\n",
              "      <td>...</td>\n",
              "      <td>440890</td>\n",
              "      <td>BE</td>\n",
              "      <td>BE</td>\n",
              "      <td>0.0</td>\n",
              "      <td>FEU1</td>\n",
              "      <td>G</td>\n",
              "      <td>108.0</td>\n",
              "      <td>372254.40</td>\n",
              "      <td>0</td>\n",
              "      <td>0</td>\n",
              "    </tr>\n",
              "    <tr>\n",
              "      <th>1</th>\n",
              "      <td>85945189</td>\n",
              "      <td>2020-01-01</td>\n",
              "      <td>40</td>\n",
              "      <td>B</td>\n",
              "      <td>11</td>\n",
              "      <td>21</td>\n",
              "      <td>11</td>\n",
              "      <td>40</td>\n",
              "      <td>SWF9S4X</td>\n",
              "      <td>7JD1S2X</td>\n",
              "      <td>...</td>\n",
              "      <td>690722</td>\n",
              "      <td>CN</td>\n",
              "      <td>CN</td>\n",
              "      <td>8.0</td>\n",
              "      <td>A</td>\n",
              "      <td>Y</td>\n",
              "      <td>11352.0</td>\n",
              "      <td>375751.20</td>\n",
              "      <td>0</td>\n",
              "      <td>0</td>\n",
              "    </tr>\n",
              "    <tr>\n",
              "      <th>2</th>\n",
              "      <td>77854751</td>\n",
              "      <td>2020-01-01</td>\n",
              "      <td>20</td>\n",
              "      <td>B</td>\n",
              "      <td>11</td>\n",
              "      <td>21</td>\n",
              "      <td>11</td>\n",
              "      <td>40</td>\n",
              "      <td>X4XT6P8</td>\n",
              "      <td>WI9O3I5</td>\n",
              "      <td>...</td>\n",
              "      <td>620822</td>\n",
              "      <td>CN</td>\n",
              "      <td>CN</td>\n",
              "      <td>5.2</td>\n",
              "      <td>FCN1</td>\n",
              "      <td>B</td>\n",
              "      <td>20.7</td>\n",
              "      <td>5353.02</td>\n",
              "      <td>0</td>\n",
              "      <td>0</td>\n",
              "    </tr>\n",
              "    <tr>\n",
              "      <th>3</th>\n",
              "      <td>46925060</td>\n",
              "      <td>2020-01-01</td>\n",
              "      <td>40</td>\n",
              "      <td>B</td>\n",
              "      <td>11</td>\n",
              "      <td>21</td>\n",
              "      <td>43</td>\n",
              "      <td>40</td>\n",
              "      <td>K7LCQTZ</td>\n",
              "      <td>6LI9721</td>\n",
              "      <td>...</td>\n",
              "      <td>940350</td>\n",
              "      <td>VN</td>\n",
              "      <td>VN</td>\n",
              "      <td>0.0</td>\n",
              "      <td>C</td>\n",
              "      <td>Y</td>\n",
              "      <td>9218.0</td>\n",
              "      <td>1477645.40</td>\n",
              "      <td>0</td>\n",
              "      <td>0</td>\n",
              "    </tr>\n",
              "    <tr>\n",
              "      <th>4</th>\n",
              "      <td>34131149</td>\n",
              "      <td>2020-01-01</td>\n",
              "      <td>20</td>\n",
              "      <td>B</td>\n",
              "      <td>11</td>\n",
              "      <td>21</td>\n",
              "      <td>11</td>\n",
              "      <td>10</td>\n",
              "      <td>1HMVIVH</td>\n",
              "      <td>RZ871V1</td>\n",
              "      <td>...</td>\n",
              "      <td>71080</td>\n",
              "      <td>VN</td>\n",
              "      <td>VN</td>\n",
              "      <td>27.0</td>\n",
              "      <td>A</td>\n",
              "      <td>B</td>\n",
              "      <td>24000.0</td>\n",
              "      <td>6364800.00</td>\n",
              "      <td>0</td>\n",
              "      <td>0</td>\n",
              "    </tr>\n",
              "  </tbody>\n",
              "</table>\n",
              "<p>5 rows × 22 columns</p>\n",
              "</div>"
            ],
            "text/plain": [
              "   Declaration ID        Date  Office ID Process Type  Import Type  \\\n",
              "0        97061800  2020-01-01         30            B           11   \n",
              "1        85945189  2020-01-01         40            B           11   \n",
              "2        77854751  2020-01-01         20            B           11   \n",
              "3        46925060  2020-01-01         40            B           11   \n",
              "4        34131149  2020-01-01         20            B           11   \n",
              "\n",
              "   Import Use  Payment Type  Mode of Transport Declarant ID Importer ID  ...  \\\n",
              "0          21            11                 10      ZZR1LT6     QLRUBN9  ...   \n",
              "1          21            11                 40      SWF9S4X     7JD1S2X  ...   \n",
              "2          21            11                 40      X4XT6P8     WI9O3I5  ...   \n",
              "3          21            43                 40      K7LCQTZ     6LI9721  ...   \n",
              "4          21            11                 10      1HMVIVH     RZ871V1  ...   \n",
              "\n",
              "  HS6 Code Country of Departure  Country of Origin Tax Rate Tax Type  \\\n",
              "0   440890                   BE                 BE      0.0     FEU1   \n",
              "1   690722                   CN                 CN      8.0        A   \n",
              "2   620822                   CN                 CN      5.2     FCN1   \n",
              "3   940350                   VN                 VN      0.0        C   \n",
              "4    71080                   VN                 VN     27.0        A   \n",
              "\n",
              "   Country of Origin Indicator Net Mass  Item Price  Fraud  Critical Fraud  \n",
              "0                            G    108.0   372254.40      0               0  \n",
              "1                            Y  11352.0   375751.20      0               0  \n",
              "2                            B     20.7     5353.02      0               0  \n",
              "3                            Y   9218.0  1477645.40      0               0  \n",
              "4                            B  24000.0  6364800.00      0               0  \n",
              "\n",
              "[5 rows x 22 columns]"
            ]
          },
          "execution_count": 3,
          "metadata": {},
          "output_type": "execute_result"
        }
      ],
      "source": [
        "# First 5 rows in our dataset\n",
        "df.head()"
      ]
    },
    {
      "cell_type": "code",
      "execution_count": null,
      "id": "794954d8",
      "metadata": {
        "scrolled": true,
        "id": "794954d8",
        "outputId": "af35ad2a-f234-4f30-eef4-64b0b8d37f6a"
      },
      "outputs": [
        {
          "data": {
            "text/plain": [
              "(54000, 22)"
            ]
          },
          "execution_count": 4,
          "metadata": {},
          "output_type": "execute_result"
        }
      ],
      "source": [
        "# Number of rows and columns\n",
        "df.shape"
      ]
    },
    {
      "cell_type": "markdown",
      "id": "131bdc69",
      "metadata": {
        "id": "131bdc69"
      },
      "source": [
        "## Feature Overview\n",
        "There are 22 columns in the dataset. Columns with \"object\" data types are categorical variables, while the others are numerical variables.\n",
        "\n",
        "| Attribute               | Description                                              |\n",
        "| :------------------ | :------------------------------------------------- |\n",
        "| Declaration ID           | Primary key of the record                           |\n",
        "| Date           | Date when the declaration is reported                           |\n",
        "| Office ID       | Customs office that receives the declaration (e.g., Seoul regional customs)                               |\n",
        "| Process type | Type of the declaration process (e.g., Paperless declaration) |\n",
        "| Import type | Code for import type (e.g., OEM import, E-commerce)                         |\n",
        "| Import use | Code for import use (e.g., Raw materials for domestic consumption)     |\n",
        "| Payment type | Distinguish tariff payment type (e.g., Usance credit payable at sight)                        |\n",
        "| Mode of transport | Nine modes of transport (e.g., maritime, rail, air)              |\n",
        "| Declarant ID | Person who declares the item                  |\n",
        "| Importer ID | Consumer who imports the item                             |\n",
        "| Seller ID | Overseas business partner which supplies goods to Korea                           |\n",
        "| Courier ID | Delivery service provider (e.g., DHL, FedEx)                     |\n",
        "| HS6 code | 6-digit product code (e.g., 090121 = Coffee, Roasted, Not Decaffeinated)                             |\n",
        "| Country of departure | Country from which a shipment has or is scheduled to depart             |\n",
        "| Country of origin | Country of manufacture, production or design, or where an article or product comes from                            |\n",
        "| Tax rate | Tax rate of the item (%)                              |\n",
        "| Tax type | Tax types (e.g., FTA Preferential rate)               |\n",
        "| Country of origin indicator | Way of indicating the country of origin (e.g., Mark on package)      |\n",
        "| Net mass | Mass without any packaging (kg)                  |\n",
        "| Item price | Assessed value of an item (KRW)                   |\n",
        "| Fraud | Fraudulent attempt to reduce the customs duty (0/1)                                    |\n",
        "| Crifical fraud | Critical case which may threaten the public safety (0/1)             |"
      ]
    },
    {
      "cell_type": "code",
      "execution_count": null,
      "id": "84d2f5a2",
      "metadata": {
        "scrolled": false,
        "id": "84d2f5a2",
        "outputId": "fbf5c9c8-6453-4653-d658-cf8aee2ae1fe"
      },
      "outputs": [
        {
          "name": "stdout",
          "output_type": "stream",
          "text": [
            "<class 'pandas.core.frame.DataFrame'>\n",
            "RangeIndex: 54000 entries, 0 to 53999\n",
            "Data columns (total 22 columns):\n",
            " #   Column                       Non-Null Count  Dtype         \n",
            "---  ------                       --------------  -----         \n",
            " 0   Declaration ID               54000 non-null  object        \n",
            " 1   Date                         54000 non-null  datetime64[ns]\n",
            " 2   Office ID                    54000 non-null  object        \n",
            " 3   Process Type                 54000 non-null  object        \n",
            " 4   Import Type                  54000 non-null  object        \n",
            " 5   Import Use                   54000 non-null  object        \n",
            " 6   Payment Type                 54000 non-null  object        \n",
            " 7   Mode of Transport            54000 non-null  object        \n",
            " 8   Declarant ID                 54000 non-null  object        \n",
            " 9   Importer ID                  54000 non-null  object        \n",
            " 10  Seller ID                    48799 non-null  object        \n",
            " 11  Courier ID                   9538 non-null   object        \n",
            " 12  HS6 Code                     54000 non-null  object        \n",
            " 13  Country of Departure         54000 non-null  object        \n",
            " 14  Country of Origin            54000 non-null  object        \n",
            " 15  Tax Rate                     54000 non-null  float64       \n",
            " 16  Tax Type                     54000 non-null  object        \n",
            " 17  Country of Origin Indicator  54000 non-null  object        \n",
            " 18  Net Mass                     54000 non-null  float64       \n",
            " 19  Item Price                   54000 non-null  float64       \n",
            " 20  Fraud                        54000 non-null  object        \n",
            " 21  Critical Fraud               54000 non-null  object        \n",
            "dtypes: datetime64[ns](1), float64(3), object(18)\n",
            "memory usage: 9.1+ MB\n"
          ]
        }
      ],
      "source": [
        "# List of columns\n",
        "df=df.astype({'Declaration ID':'str','Date':'datetime64', 'Office ID':'str', 'Process Type':'str',\n",
        "              'Import Type':'str', 'Import Use':'str', 'Payment Type':'str', 'Mode of Transport':'str',\n",
        "              'HS6 Code':'str', 'Fraud':'str', 'Critical Fraud':'str', 'Item Price':'float64'})\n",
        "df.info()"
      ]
    },
    {
      "cell_type": "markdown",
      "id": "aac87528",
      "metadata": {
        "id": "aac87528"
      },
      "source": [
        "Columns *Seller ID* and *Courier ID* have null values."
      ]
    },
    {
      "cell_type": "code",
      "execution_count": null,
      "id": "035ccf19",
      "metadata": {
        "id": "035ccf19",
        "outputId": "85f51f16-6fe8-4b9f-93a3-fad0d92750cc"
      },
      "outputs": [
        {
          "data": {
            "text/plain": [
              "Declaration ID                 54000\n",
              "Date                             547\n",
              "Office ID                         43\n",
              "Process Type                       3\n",
              "Import Type                       28\n",
              "Import Use                        14\n",
              "Payment Type                      10\n",
              "Mode of Transport                  6\n",
              "Declarant ID                    1238\n",
              "Importer ID                    14482\n",
              "Seller ID                      12201\n",
              "Courier ID                        81\n",
              "HS6 Code                        2489\n",
              "Country of Departure             102\n",
              "Country of Origin                119\n",
              "Tax Rate                         122\n",
              "Tax Type                          49\n",
              "Country of Origin Indicator        6\n",
              "Net Mass                        5704\n",
              "Item Price                     15874\n",
              "Fraud                              2\n",
              "Critical Fraud                     3\n",
              "dtype: int64"
            ]
          },
          "execution_count": 6,
          "metadata": {},
          "output_type": "execute_result"
        }
      ],
      "source": [
        "# Number of unique values in each features are as in the following.\n",
        "df.nunique()"
      ]
    },
    {
      "cell_type": "markdown",
      "id": "9ace92b4",
      "metadata": {
        "id": "9ace92b4"
      },
      "source": [
        "### 1. Date\n",
        "*Date*(신고일자) means the reported date of the declaration. The range is from January 2020 to July 2021."
      ]
    },
    {
      "cell_type": "code",
      "execution_count": null,
      "id": "1b1dd088",
      "metadata": {
        "scrolled": false,
        "id": "1b1dd088",
        "outputId": "39ebc0ef-6c3f-4e66-b4d3-df278da62085"
      },
      "outputs": [
        {
          "data": {
            "image/png": "[encoded data removed]",
            "text/plain": [
              "<Figure size 432x288 with 1 Axes>"
            ]
          },
          "metadata": {
            "needs_background": "light"
          },
          "output_type": "display_data"
        }
      ],
      "source": [
        "# Number of montly reported data\n",
        "df_date_count = df[\"Date\"].groupby([df.Date.dt.year.rename('year'), df.Date.dt.month.rename('month')]).agg({'count'})\n",
        "df_date_count.index = df_date_count.index.map(lambda idx: f'{idx[0]}/{idx[1]}')\n",
        "sns.barplot(x=df_date_count.index, y=\"count\", data=df_date_count, color='salmon')\n",
        "plt.xticks(rotation=90)\n",
        "plt.xlabel(\"Month\")\n",
        "plt.savefig('date.pdf', bbox_inches='tight')\n",
        "plt.show()"
      ]
    },
    {
      "cell_type": "markdown",
      "id": "53393f54",
      "metadata": {
        "id": "53393f54"
      },
      "source": [
        "### 2. Office ID\n",
        "*Office ID*(신고세관부호) indicates the office that disposed the declaration. Each code refers customs offices in Korea.\n",
        "\n",
        "- **10**: Seoul Regional Customs\n",
        "- **13**: Incheon Airport International Postal Customs\n",
        "- **16**: Pyeongtaek Customs\n",
        "- **20**: Incheon Regional Customs(Incheon Port)\n",
        "- **30**: Busan Regional Customs\n",
        "- **40**: Incheon Regional Customs(Airport)\n",
        "- ... and so on."
      ]
    },
    {
      "cell_type": "code",
      "execution_count": null,
      "id": "6e2ebf77",
      "metadata": {
        "id": "6e2ebf77",
        "outputId": "33000271-3f2d-4420-9900-672726ab9ac6"
      },
      "outputs": [
        {
          "name": "stdout",
          "output_type": "stream",
          "text": [
            "Values of Office ID :\n",
            "['30', '40', '20', '10', '13', '62', '50', '16', '70', '80', '39', '120', '140', '12', '121', '131', '41', '21', '23', '56', '33', '14', '53', '152', '54', '151', '82', '150', '130', '122', '17', '110', '153', '100', '71', '60', '81', '90', '37', '154', '102', '51', '101']\n",
            "Number of unique Office IDs :  43\n"
          ]
        },
        {
          "data": {
            "text/html": [
              "<div>\n",
              "<style scoped>\n",
              "    .dataframe tbody tr th:only-of-type {\n",
              "        vertical-align: middle;\n",
              "    }\n",
              "\n",
              "    .dataframe tbody tr th {\n",
              "        vertical-align: top;\n",
              "    }\n",
              "\n",
              "    .dataframe thead th {\n",
              "        text-align: right;\n",
              "    }\n",
              "</style>\n",
              "<table border=\"1\" class=\"dataframe\">\n",
              "  <thead>\n",
              "    <tr style=\"text-align: right;\">\n",
              "      <th></th>\n",
              "      <th>Office ID</th>\n",
              "      <th>Count</th>\n",
              "    </tr>\n",
              "  </thead>\n",
              "  <tbody>\n",
              "    <tr>\n",
              "      <th>0</th>\n",
              "      <td>40</td>\n",
              "      <td>19860</td>\n",
              "    </tr>\n",
              "    <tr>\n",
              "      <th>1</th>\n",
              "      <td>20</td>\n",
              "      <td>16520</td>\n",
              "    </tr>\n",
              "    <tr>\n",
              "      <th>2</th>\n",
              "      <td>30</td>\n",
              "      <td>8642</td>\n",
              "    </tr>\n",
              "    <tr>\n",
              "      <th>3</th>\n",
              "      <td>16</td>\n",
              "      <td>2802</td>\n",
              "    </tr>\n",
              "    <tr>\n",
              "      <th>4</th>\n",
              "      <td>13</td>\n",
              "      <td>1380</td>\n",
              "    </tr>\n",
              "    <tr>\n",
              "      <th>5</th>\n",
              "      <td>10</td>\n",
              "      <td>901</td>\n",
              "    </tr>\n",
              "    <tr>\n",
              "      <th>6</th>\n",
              "      <td>33</td>\n",
              "      <td>891</td>\n",
              "    </tr>\n",
              "    <tr>\n",
              "      <th>7</th>\n",
              "      <td>39</td>\n",
              "      <td>474</td>\n",
              "    </tr>\n",
              "    <tr>\n",
              "      <th>8</th>\n",
              "      <td>62</td>\n",
              "      <td>400</td>\n",
              "    </tr>\n",
              "    <tr>\n",
              "      <th>9</th>\n",
              "      <td>80</td>\n",
              "      <td>281</td>\n",
              "    </tr>\n",
              "  </tbody>\n",
              "</table>\n",
              "</div>"
            ],
            "text/plain": [
              "  Office ID  Count\n",
              "0        40  19860\n",
              "1        20  16520\n",
              "2        30   8642\n",
              "3        16   2802\n",
              "4        13   1380\n",
              "5        10    901\n",
              "6        33    891\n",
              "7        39    474\n",
              "8        62    400\n",
              "9        80    281"
            ]
          },
          "execution_count": 8,
          "metadata": {},
          "output_type": "execute_result"
        }
      ],
      "source": [
        "# Values of Office ID\n",
        "print('Values of Office ID :')\n",
        "print([x for x in df[\"Office ID\"].unique()])\n",
        "print('Number of unique Office IDs : ' , df[\"Office ID\"].nunique())\n",
        "\n",
        "# Frequent Office IDs\n",
        "pd.DataFrame(df[\"Office ID\"].value_counts().reset_index().values, columns=[\"Office ID\", \"Count\"]).head(10)"
      ]
    },
    {
      "cell_type": "markdown",
      "id": "0b312dde",
      "metadata": {
        "id": "0b312dde"
      },
      "source": [
        "### 3. Process Type\n",
        "*Process Type*(수입신고구분코드) indicates the type of import declaration process. Each code refers to:\n",
        "- **A**: Normal paperless declaration. Paperless means processed through electronic document.\n",
        "- **B**: Normal document declaration\n",
        "- **D**: Simplified document declaration"
      ]
    },
    {
      "cell_type": "code",
      "execution_count": null,
      "id": "33b3e274",
      "metadata": {
        "scrolled": false,
        "id": "33b3e274",
        "outputId": "b4c7365a-cdbe-4662-fb1d-501389eef825"
      },
      "outputs": [
        {
          "name": "stdout",
          "output_type": "stream",
          "text": [
            "Values of Process Type : ['B' 'D' 'A']\n"
          ]
        },
        {
          "data": {
            "text/html": [
              "<div>\n",
              "<style scoped>\n",
              "    .dataframe tbody tr th:only-of-type {\n",
              "        vertical-align: middle;\n",
              "    }\n",
              "\n",
              "    .dataframe tbody tr th {\n",
              "        vertical-align: top;\n",
              "    }\n",
              "\n",
              "    .dataframe thead th {\n",
              "        text-align: right;\n",
              "    }\n",
              "</style>\n",
              "<table border=\"1\" class=\"dataframe\">\n",
              "  <thead>\n",
              "    <tr style=\"text-align: right;\">\n",
              "      <th></th>\n",
              "      <th>Process Type</th>\n",
              "      <th>Count</th>\n",
              "    </tr>\n",
              "  </thead>\n",
              "  <tbody>\n",
              "    <tr>\n",
              "      <th>0</th>\n",
              "      <td>B</td>\n",
              "      <td>53992</td>\n",
              "    </tr>\n",
              "    <tr>\n",
              "      <th>1</th>\n",
              "      <td>D</td>\n",
              "      <td>7</td>\n",
              "    </tr>\n",
              "    <tr>\n",
              "      <th>2</th>\n",
              "      <td>A</td>\n",
              "      <td>1</td>\n",
              "    </tr>\n",
              "  </tbody>\n",
              "</table>\n",
              "</div>"
            ],
            "text/plain": [
              "  Process Type  Count\n",
              "0            B  53992\n",
              "1            D      7\n",
              "2            A      1"
            ]
          },
          "execution_count": 9,
          "metadata": {},
          "output_type": "execute_result"
        }
      ],
      "source": [
        "# Values of Process Type\n",
        "print(\"Values of Process Type :\", df[\"Process Type\"].unique())\n",
        "pd.DataFrame(df[\"Process Type\"].value_counts().reset_index().values, columns=[\"Process Type\", \"Count\"])"
      ]
    },
    {
      "cell_type": "markdown",
      "id": "262151e7",
      "metadata": {
        "id": "262151e7"
      },
      "source": [
        "Almost all data is process type B."
      ]
    },
    {
      "cell_type": "markdown",
      "id": "fa537210",
      "metadata": {
        "id": "fa537210"
      },
      "source": [
        "### 4. Import Type\n",
        "*Import Type*(수입거래구분코드) indicates the content of import transaction or import contract.\n",
        "For example, **11** means normal import. **87** means imported item without payment, such as sample."
      ]
    },
    {
      "cell_type": "code",
      "execution_count": null,
      "id": "090b7fa5",
      "metadata": {
        "id": "090b7fa5",
        "outputId": "2e532fed-8ceb-4441-dc55-4f7e5c774a8d"
      },
      "outputs": [
        {
          "name": "stdout",
          "output_type": "stream",
          "text": [
            "Values of Import Type :\n",
            "['11', '80', '96', '93', '83', '94', '15', '89', '86', '29', '87', '92', '22', '88', '12', '51', '84', '85', '100', '71', '59', '21', '55', '13', '90', '53', '54', '49']\n",
            "Number of unique Import Types :  28\n"
          ]
        },
        {
          "data": {
            "text/html": [
              "<div>\n",
              "<style scoped>\n",
              "    .dataframe tbody tr th:only-of-type {\n",
              "        vertical-align: middle;\n",
              "    }\n",
              "\n",
              "    .dataframe tbody tr th {\n",
              "        vertical-align: top;\n",
              "    }\n",
              "\n",
              "    .dataframe thead th {\n",
              "        text-align: right;\n",
              "    }\n",
              "</style>\n",
              "<table border=\"1\" class=\"dataframe\">\n",
              "  <thead>\n",
              "    <tr style=\"text-align: right;\">\n",
              "      <th></th>\n",
              "      <th>Import Type</th>\n",
              "      <th>Count</th>\n",
              "    </tr>\n",
              "  </thead>\n",
              "  <tbody>\n",
              "    <tr>\n",
              "      <th>0</th>\n",
              "      <td>11</td>\n",
              "      <td>46678</td>\n",
              "    </tr>\n",
              "    <tr>\n",
              "      <th>1</th>\n",
              "      <td>87</td>\n",
              "      <td>2150</td>\n",
              "    </tr>\n",
              "    <tr>\n",
              "      <th>2</th>\n",
              "      <td>94</td>\n",
              "      <td>1777</td>\n",
              "    </tr>\n",
              "    <tr>\n",
              "      <th>3</th>\n",
              "      <td>15</td>\n",
              "      <td>954</td>\n",
              "    </tr>\n",
              "    <tr>\n",
              "      <th>4</th>\n",
              "      <td>89</td>\n",
              "      <td>750</td>\n",
              "    </tr>\n",
              "    <tr>\n",
              "      <th>5</th>\n",
              "      <td>29</td>\n",
              "      <td>373</td>\n",
              "    </tr>\n",
              "    <tr>\n",
              "      <th>6</th>\n",
              "      <td>88</td>\n",
              "      <td>230</td>\n",
              "    </tr>\n",
              "    <tr>\n",
              "      <th>7</th>\n",
              "      <td>83</td>\n",
              "      <td>184</td>\n",
              "    </tr>\n",
              "    <tr>\n",
              "      <th>8</th>\n",
              "      <td>84</td>\n",
              "      <td>147</td>\n",
              "    </tr>\n",
              "    <tr>\n",
              "      <th>9</th>\n",
              "      <td>93</td>\n",
              "      <td>121</td>\n",
              "    </tr>\n",
              "  </tbody>\n",
              "</table>\n",
              "</div>"
            ],
            "text/plain": [
              "  Import Type  Count\n",
              "0          11  46678\n",
              "1          87   2150\n",
              "2          94   1777\n",
              "3          15    954\n",
              "4          89    750\n",
              "5          29    373\n",
              "6          88    230\n",
              "7          83    184\n",
              "8          84    147\n",
              "9          93    121"
            ]
          },
          "execution_count": 10,
          "metadata": {},
          "output_type": "execute_result"
        }
      ],
      "source": [
        "# Values of Import Type\n",
        "print(\"Values of Import Type :\")\n",
        "print([x for x in df[\"Import Type\"].unique()])\n",
        "print('Number of unique Import Types : ' , df[\"Import Type\"].nunique())\n",
        "\n",
        "# Frequent Import Types\n",
        "pd.DataFrame(df[\"Import Type\"].value_counts().reset_index().values, columns=[\"Import Type\", \"Count\"]).head(10)"
      ]
    },
    {
      "cell_type": "markdown",
      "id": "f64f6a78",
      "metadata": {
        "id": "f64f6a78"
      },
      "source": [
        "86% of the data is Import type **11**."
      ]
    },
    {
      "cell_type": "markdown",
      "id": "e9ee3fb6",
      "metadata": {
        "id": "e9ee3fb6"
      },
      "source": [
        "### 5. Import Use\n",
        "*Import Use*(수입 종류 부호) refers to type of import purpose or import condition. For example, **21** and **11** refer to normal import for domestic consumption and normal import for acquired foreign currency, respectively."
      ]
    },
    {
      "cell_type": "code",
      "execution_count": null,
      "id": "35b14a4a",
      "metadata": {
        "id": "35b14a4a",
        "outputId": "4fed42f0-bea9-41f1-b3df-30a704ea3e46"
      },
      "outputs": [
        {
          "name": "stdout",
          "output_type": "stream",
          "text": [
            "Values of Import Use :\n",
            "['21', '26', '23', '15', '11', '31', '13', '28', '12', '27', '14', '17', '30', '24']\n",
            "Number of unique Import Uses :  14\n"
          ]
        },
        {
          "data": {
            "text/html": [
              "<div>\n",
              "<style scoped>\n",
              "    .dataframe tbody tr th:only-of-type {\n",
              "        vertical-align: middle;\n",
              "    }\n",
              "\n",
              "    .dataframe tbody tr th {\n",
              "        vertical-align: top;\n",
              "    }\n",
              "\n",
              "    .dataframe thead th {\n",
              "        text-align: right;\n",
              "    }\n",
              "</style>\n",
              "<table border=\"1\" class=\"dataframe\">\n",
              "  <thead>\n",
              "    <tr style=\"text-align: right;\">\n",
              "      <th></th>\n",
              "      <th>Import Use</th>\n",
              "      <th>Count</th>\n",
              "    </tr>\n",
              "  </thead>\n",
              "  <tbody>\n",
              "    <tr>\n",
              "      <th>0</th>\n",
              "      <td>21</td>\n",
              "      <td>49292</td>\n",
              "    </tr>\n",
              "    <tr>\n",
              "      <th>1</th>\n",
              "      <td>11</td>\n",
              "      <td>2471</td>\n",
              "    </tr>\n",
              "    <tr>\n",
              "      <th>2</th>\n",
              "      <td>26</td>\n",
              "      <td>1141</td>\n",
              "    </tr>\n",
              "    <tr>\n",
              "      <th>3</th>\n",
              "      <td>23</td>\n",
              "      <td>408</td>\n",
              "    </tr>\n",
              "    <tr>\n",
              "      <th>4</th>\n",
              "      <td>28</td>\n",
              "      <td>298</td>\n",
              "    </tr>\n",
              "    <tr>\n",
              "      <th>5</th>\n",
              "      <td>13</td>\n",
              "      <td>100</td>\n",
              "    </tr>\n",
              "    <tr>\n",
              "      <th>6</th>\n",
              "      <td>12</td>\n",
              "      <td>92</td>\n",
              "    </tr>\n",
              "    <tr>\n",
              "      <th>7</th>\n",
              "      <td>15</td>\n",
              "      <td>85</td>\n",
              "    </tr>\n",
              "    <tr>\n",
              "      <th>8</th>\n",
              "      <td>14</td>\n",
              "      <td>43</td>\n",
              "    </tr>\n",
              "    <tr>\n",
              "      <th>9</th>\n",
              "      <td>27</td>\n",
              "      <td>30</td>\n",
              "    </tr>\n",
              "    <tr>\n",
              "      <th>10</th>\n",
              "      <td>31</td>\n",
              "      <td>28</td>\n",
              "    </tr>\n",
              "    <tr>\n",
              "      <th>11</th>\n",
              "      <td>30</td>\n",
              "      <td>6</td>\n",
              "    </tr>\n",
              "    <tr>\n",
              "      <th>12</th>\n",
              "      <td>17</td>\n",
              "      <td>3</td>\n",
              "    </tr>\n",
              "    <tr>\n",
              "      <th>13</th>\n",
              "      <td>24</td>\n",
              "      <td>3</td>\n",
              "    </tr>\n",
              "  </tbody>\n",
              "</table>\n",
              "</div>"
            ],
            "text/plain": [
              "   Import Use  Count\n",
              "0          21  49292\n",
              "1          11   2471\n",
              "2          26   1141\n",
              "3          23    408\n",
              "4          28    298\n",
              "5          13    100\n",
              "6          12     92\n",
              "7          15     85\n",
              "8          14     43\n",
              "9          27     30\n",
              "10         31     28\n",
              "11         30      6\n",
              "12         17      3\n",
              "13         24      3"
            ]
          },
          "execution_count": 11,
          "metadata": {},
          "output_type": "execute_result"
        }
      ],
      "source": [
        "# Values of Import Use\n",
        "print(\"Values of Import Use :\")\n",
        "print([x for x in df[\"Import Use\"].unique()])\n",
        "print('Number of unique Import Uses : ' , df[\"Import Use\"].nunique())\n",
        "\n",
        "# Frequent Import Uses\n",
        "pd.DataFrame(df[\"Import Use\"].value_counts().reset_index().values, columns=[\"Import Use\", \"Count\"])"
      ]
    },
    {
      "cell_type": "code",
      "execution_count": null,
      "id": "551c3de9",
      "metadata": {
        "id": "551c3de9",
        "outputId": "b32fd1cb-688e-449e-a1ae-e2f342f01935"
      },
      "outputs": [
        {
          "data": {
            "image/png": "[encoded data removed]",
            "text/plain": [
              "<Figure size 432x288 with 1 Axes>"
            ]
          },
          "metadata": {
            "needs_background": "light"
          },
          "output_type": "display_data"
        }
      ],
      "source": [
        "sns.histplot(data = df[\"Import Use\"], color='salmon', edgecolor='1')\n",
        "plt.savefig('ImportUse.pdf', bbox_inches='tight')"
      ]
    },
    {
      "cell_type": "markdown",
      "id": "2a69518a",
      "metadata": {
        "id": "2a69518a"
      },
      "source": [
        "### 6. Payment Type\n",
        "*Payment Type*(징수형태부호) indicates the type of taxation. Descriptions of example codes are as follows:\n",
        "\n",
        "- **0**: Moratorium on taxation\n",
        "- **11**: Tax payment is done before the acceptance of declaration. In other words, this type of declaration is accepted only after the tariff is payed.\n",
        "- **12**,**13**,**14**,**18**: Tax payment after the accpetance of declaration. These types means the tariff can be payed after the the declaration is accepted, with the provision of security.\n",
        "- **21**: Customs imposes and collects tariffs regardless of the payment. The example is the case that the declararnt violated a law.\n",
        "- **43**: Tax is paied monthly, not per each declaration."
      ]
    },
    {
      "cell_type": "code",
      "execution_count": null,
      "id": "9a8e1ba1",
      "metadata": {
        "scrolled": false,
        "id": "9a8e1ba1",
        "outputId": "87574837-7a0b-4ae4-fdcd-ef28a3382efa"
      },
      "outputs": [
        {
          "name": "stdout",
          "output_type": "stream",
          "text": [
            "Values of Payment Type :\n",
            "['11', '43', '18', '14', '33', '0', '13', '21', '1', '12']\n",
            "Number of unique Payment Types :  10\n"
          ]
        },
        {
          "data": {
            "text/html": [
              "<div>\n",
              "<style scoped>\n",
              "    .dataframe tbody tr th:only-of-type {\n",
              "        vertical-align: middle;\n",
              "    }\n",
              "\n",
              "    .dataframe tbody tr th {\n",
              "        vertical-align: top;\n",
              "    }\n",
              "\n",
              "    .dataframe thead th {\n",
              "        text-align: right;\n",
              "    }\n",
              "</style>\n",
              "<table border=\"1\" class=\"dataframe\">\n",
              "  <thead>\n",
              "    <tr style=\"text-align: right;\">\n",
              "      <th></th>\n",
              "      <th>Payment Type</th>\n",
              "      <th>Count</th>\n",
              "    </tr>\n",
              "  </thead>\n",
              "  <tbody>\n",
              "    <tr>\n",
              "      <th>0</th>\n",
              "      <td>11</td>\n",
              "      <td>36476</td>\n",
              "    </tr>\n",
              "    <tr>\n",
              "      <th>1</th>\n",
              "      <td>43</td>\n",
              "      <td>9999</td>\n",
              "    </tr>\n",
              "    <tr>\n",
              "      <th>2</th>\n",
              "      <td>18</td>\n",
              "      <td>3570</td>\n",
              "    </tr>\n",
              "    <tr>\n",
              "      <th>3</th>\n",
              "      <td>14</td>\n",
              "      <td>3230</td>\n",
              "    </tr>\n",
              "    <tr>\n",
              "      <th>4</th>\n",
              "      <td>0</td>\n",
              "      <td>324</td>\n",
              "    </tr>\n",
              "    <tr>\n",
              "      <th>5</th>\n",
              "      <td>13</td>\n",
              "      <td>291</td>\n",
              "    </tr>\n",
              "    <tr>\n",
              "      <th>6</th>\n",
              "      <td>21</td>\n",
              "      <td>66</td>\n",
              "    </tr>\n",
              "    <tr>\n",
              "      <th>7</th>\n",
              "      <td>12</td>\n",
              "      <td>23</td>\n",
              "    </tr>\n",
              "    <tr>\n",
              "      <th>8</th>\n",
              "      <td>33</td>\n",
              "      <td>19</td>\n",
              "    </tr>\n",
              "    <tr>\n",
              "      <th>9</th>\n",
              "      <td>1</td>\n",
              "      <td>2</td>\n",
              "    </tr>\n",
              "  </tbody>\n",
              "</table>\n",
              "</div>"
            ],
            "text/plain": [
              "  Payment Type  Count\n",
              "0           11  36476\n",
              "1           43   9999\n",
              "2           18   3570\n",
              "3           14   3230\n",
              "4            0    324\n",
              "5           13    291\n",
              "6           21     66\n",
              "7           12     23\n",
              "8           33     19\n",
              "9            1      2"
            ]
          },
          "execution_count": 13,
          "metadata": {},
          "output_type": "execute_result"
        }
      ],
      "source": [
        "# Values of Payment Type\n",
        "print(\"Values of Payment Type :\")\n",
        "print([x for x in df[\"Payment Type\"].unique()])\n",
        "print('Number of unique Payment Types : ' , df[\"Payment Type\"].nunique())\n",
        "\n",
        "# Frequent Payment Types\n",
        "pd.DataFrame(df[\"Payment Type\"].value_counts().reset_index().values, columns=[\"Payment Type\", \"Count\"])"
      ]
    },
    {
      "cell_type": "code",
      "execution_count": null,
      "id": "89a6e999",
      "metadata": {
        "scrolled": true,
        "id": "89a6e999",
        "outputId": "1141ed78-0e3f-4eed-e88e-45f4f9b5ec7e"
      },
      "outputs": [
        {
          "data": {
            "image/png": "[encoded data removed]",
            "text/plain": [
              "<Figure size 432x288 with 1 Axes>"
            ]
          },
          "metadata": {
            "needs_background": "light"
          },
          "output_type": "display_data"
        }
      ],
      "source": [
        "# Distribution of Payment Type\n",
        "sns.histplot(data = df[\"Payment Type\"], color='salmon', edgecolor='1')\n",
        "plt.savefig('PaymetType.pdf', bbox_inches='tight')"
      ]
    },
    {
      "cell_type": "markdown",
      "id": "75e522a8",
      "metadata": {
        "id": "75e522a8"
      },
      "source": [
        "Code **11** and **43** are most frequent."
      ]
    },
    {
      "cell_type": "markdown",
      "id": "07c837ac",
      "metadata": {
        "id": "07c837ac"
      },
      "source": [
        "### 7. Mode of Transport\n",
        "*Mode of Transport*(운송수단유형코드) indicates the means of transportation of goods. Each code indicates:\n",
        "- **10**: Maritime\n",
        "- **20**: Rail\n",
        "- **30**: Road\n",
        "- **40**: Air\n",
        "- **50**: Mail\n",
        "- **90**: Others"
      ]
    },
    {
      "cell_type": "code",
      "execution_count": null,
      "id": "ae4915ce",
      "metadata": {
        "scrolled": false,
        "id": "ae4915ce",
        "outputId": "ee66f4e2-6dff-4aaf-e16c-942dba842ede"
      },
      "outputs": [
        {
          "name": "stdout",
          "output_type": "stream",
          "text": [
            "Values of Mode of Transport :\n",
            "['10', '40', '50', '30', '90', '20']\n",
            "Number of unique Mode of Transports :  6\n"
          ]
        },
        {
          "data": {
            "text/html": [
              "<div>\n",
              "<style scoped>\n",
              "    .dataframe tbody tr th:only-of-type {\n",
              "        vertical-align: middle;\n",
              "    }\n",
              "\n",
              "    .dataframe tbody tr th {\n",
              "        vertical-align: top;\n",
              "    }\n",
              "\n",
              "    .dataframe thead th {\n",
              "        text-align: right;\n",
              "    }\n",
              "</style>\n",
              "<table border=\"1\" class=\"dataframe\">\n",
              "  <thead>\n",
              "    <tr style=\"text-align: right;\">\n",
              "      <th></th>\n",
              "      <th>Mode of Transport</th>\n",
              "      <th>Count</th>\n",
              "    </tr>\n",
              "  </thead>\n",
              "  <tbody>\n",
              "    <tr>\n",
              "      <th>0</th>\n",
              "      <td>10</td>\n",
              "      <td>30729</td>\n",
              "    </tr>\n",
              "    <tr>\n",
              "      <th>1</th>\n",
              "      <td>40</td>\n",
              "      <td>22064</td>\n",
              "    </tr>\n",
              "    <tr>\n",
              "      <th>2</th>\n",
              "      <td>50</td>\n",
              "      <td>886</td>\n",
              "    </tr>\n",
              "    <tr>\n",
              "      <th>3</th>\n",
              "      <td>30</td>\n",
              "      <td>186</td>\n",
              "    </tr>\n",
              "    <tr>\n",
              "      <th>4</th>\n",
              "      <td>90</td>\n",
              "      <td>122</td>\n",
              "    </tr>\n",
              "    <tr>\n",
              "      <th>5</th>\n",
              "      <td>20</td>\n",
              "      <td>13</td>\n",
              "    </tr>\n",
              "  </tbody>\n",
              "</table>\n",
              "</div>"
            ],
            "text/plain": [
              "  Mode of Transport  Count\n",
              "0                10  30729\n",
              "1                40  22064\n",
              "2                50    886\n",
              "3                30    186\n",
              "4                90    122\n",
              "5                20     13"
            ]
          },
          "execution_count": 15,
          "metadata": {},
          "output_type": "execute_result"
        }
      ],
      "source": [
        "# Values of Mode of Transport\n",
        "print(\"Values of Mode of Transport :\")\n",
        "print([x for x in df[\"Mode of Transport\"].unique()])\n",
        "print('Number of unique Mode of Transports : ' , df[\"Mode of Transport\"].nunique())\n",
        "\n",
        "# Distribution of Mode of Transport\n",
        "pd.DataFrame(df[\"Mode of Transport\"].value_counts().reset_index().values, columns=[\"Mode of Transport\", \"Count\"])"
      ]
    },
    {
      "cell_type": "markdown",
      "id": "0e75f4a1",
      "metadata": {
        "id": "0e75f4a1"
      },
      "source": [
        "Most of the goods are transported through marine or air freight."
      ]
    },
    {
      "cell_type": "markdown",
      "id": "b6416f5d",
      "metadata": {
        "id": "b6416f5d"
      },
      "source": [
        "### 8. Declarant ID\n",
        "*Declarant ID*(신고인부호) is the unique anonymized code of the declarant. A declarant is a person who reports the customs declaration."
      ]
    },
    {
      "cell_type": "code",
      "execution_count": null,
      "id": "096603e5",
      "metadata": {
        "id": "096603e5",
        "outputId": "253e120d-e841-4ef4-fc99-a66da3826a7c"
      },
      "outputs": [
        {
          "name": "stdout",
          "output_type": "stream",
          "text": [
            "Number of unique Declarant ID :  1238\n"
          ]
        }
      ],
      "source": [
        "# Number of unique Declarant ID\n",
        "print('Number of unique Declarant ID : ', df[\"Declarant ID\"].nunique())"
      ]
    },
    {
      "cell_type": "markdown",
      "id": "741b63e0",
      "metadata": {
        "id": "741b63e0"
      },
      "source": [
        "### 9. Importer ID\n",
        "*Importer ID*(수입자부호) is the anonymized ID that indicates each importer."
      ]
    },
    {
      "cell_type": "code",
      "execution_count": null,
      "id": "3fa64e56",
      "metadata": {
        "id": "3fa64e56",
        "outputId": "0829dc4b-5e2a-4319-e9da-e33f9050a8aa"
      },
      "outputs": [
        {
          "name": "stdout",
          "output_type": "stream",
          "text": [
            "Number of unique Importer ID :  14482\n"
          ]
        }
      ],
      "source": [
        "# Number of unique Importer ID\n",
        "print('Number of unique Importer ID : ', df[\"Importer ID\"].nunique())"
      ]
    },
    {
      "cell_type": "markdown",
      "id": "f4566efa",
      "metadata": {
        "id": "f4566efa"
      },
      "source": [
        "### 10. Seller ID\n",
        "*Seller ID*(해외거래처부호) identifies a company or individual who supplies goods to Korea from a foreign country."
      ]
    },
    {
      "cell_type": "code",
      "execution_count": null,
      "id": "accd1b05",
      "metadata": {
        "id": "accd1b05",
        "outputId": "3953693f-01a5-4d39-9f84-022ddf7ccaf7"
      },
      "outputs": [
        {
          "name": "stdout",
          "output_type": "stream",
          "text": [
            "Number of unique Seller ID :  12201\n"
          ]
        }
      ],
      "source": [
        "# Number of unique Seller ID\n",
        "print('Number of unique Seller ID : ', df[\"Seller ID\"].nunique())"
      ]
    },
    {
      "cell_type": "markdown",
      "id": "6e374773",
      "metadata": {
        "id": "6e374773"
      },
      "source": [
        "### 11. Courier ID\n",
        "*Courier ID*(특송업체부호) identifies a company that is registered with the customs and delivers express cargos."
      ]
    },
    {
      "cell_type": "code",
      "execution_count": null,
      "id": "c6f7caa4",
      "metadata": {
        "id": "c6f7caa4",
        "outputId": "a59f9551-27f9-40d8-f62f-866cbe44958b"
      },
      "outputs": [
        {
          "name": "stdout",
          "output_type": "stream",
          "text": [
            "Number of unique Courier ID :  81\n",
            "Number of non-null Courier ID :  9538\n"
          ]
        }
      ],
      "source": [
        "# Number of unique Courier ID\n",
        "print('Number of unique Courier ID : ', df[\"Courier ID\"].nunique())\n",
        "print('Number of non-null Courier ID : ', df[\"Courier ID\"].count())"
      ]
    },
    {
      "cell_type": "markdown",
      "id": "1b3ce087",
      "metadata": {
        "id": "1b3ce087"
      },
      "source": [
        "### 12. HS6 Code\n",
        "*HS6 Code*(HS6단위부호) is a standardized 6-digit code for classifying traded products. The six digits of HS codes are standard worldwide. For example, **392690** indicates office or school supplies.\n",
        "\n",
        "Items that have length less than 6 mean the first digits are 0. For example, **71080** refers to **071080**, which is other vegetables.\n",
        "\n",
        "The description of each HS code can be downloaded at: https://www.law.go.kr/flDownload.do?flSeq=26499619"
      ]
    },
    {
      "cell_type": "code",
      "execution_count": null,
      "id": "13865ab4",
      "metadata": {
        "scrolled": false,
        "id": "13865ab4",
        "outputId": "11d40ac0-aa96-43c3-cc65-c0bdbea5e0fc"
      },
      "outputs": [
        {
          "name": "stdout",
          "output_type": "stream",
          "text": [
            "Number of unique HS6 Code :  2489\n"
          ]
        },
        {
          "data": {
            "text/html": [
              "<div>\n",
              "<style scoped>\n",
              "    .dataframe tbody tr th:only-of-type {\n",
              "        vertical-align: middle;\n",
              "    }\n",
              "\n",
              "    .dataframe tbody tr th {\n",
              "        vertical-align: top;\n",
              "    }\n",
              "\n",
              "    .dataframe thead th {\n",
              "        text-align: right;\n",
              "    }\n",
              "</style>\n",
              "<table border=\"1\" class=\"dataframe\">\n",
              "  <thead>\n",
              "    <tr style=\"text-align: right;\">\n",
              "      <th></th>\n",
              "      <th>HS6 Code</th>\n",
              "      <th>Count</th>\n",
              "    </tr>\n",
              "  </thead>\n",
              "  <tbody>\n",
              "    <tr>\n",
              "      <th>0</th>\n",
              "      <td>392690</td>\n",
              "      <td>2528</td>\n",
              "    </tr>\n",
              "    <tr>\n",
              "      <th>1</th>\n",
              "      <td>71080</td>\n",
              "      <td>959</td>\n",
              "    </tr>\n",
              "    <tr>\n",
              "      <th>2</th>\n",
              "      <td>950300</td>\n",
              "      <td>936</td>\n",
              "    </tr>\n",
              "    <tr>\n",
              "      <th>3</th>\n",
              "      <td>630790</td>\n",
              "      <td>508</td>\n",
              "    </tr>\n",
              "    <tr>\n",
              "      <th>4</th>\n",
              "      <td>850440</td>\n",
              "      <td>504</td>\n",
              "    </tr>\n",
              "    <tr>\n",
              "      <th>5</th>\n",
              "      <td>330499</td>\n",
              "      <td>478</td>\n",
              "    </tr>\n",
              "    <tr>\n",
              "      <th>6</th>\n",
              "      <td>732690</td>\n",
              "      <td>470</td>\n",
              "    </tr>\n",
              "    <tr>\n",
              "      <th>7</th>\n",
              "      <td>854370</td>\n",
              "      <td>460</td>\n",
              "    </tr>\n",
              "    <tr>\n",
              "      <th>8</th>\n",
              "      <td>711719</td>\n",
              "      <td>407</td>\n",
              "    </tr>\n",
              "    <tr>\n",
              "      <th>9</th>\n",
              "      <td>382499</td>\n",
              "      <td>334</td>\n",
              "    </tr>\n",
              "  </tbody>\n",
              "</table>\n",
              "</div>"
            ],
            "text/plain": [
              "  HS6 Code Count\n",
              "0   392690  2528\n",
              "1    71080   959\n",
              "2   950300   936\n",
              "3   630790   508\n",
              "4   850440   504\n",
              "5   330499   478\n",
              "6   732690   470\n",
              "7   854370   460\n",
              "8   711719   407\n",
              "9   382499   334"
            ]
          },
          "execution_count": 22,
          "metadata": {},
          "output_type": "execute_result"
        }
      ],
      "source": [
        "# Number of unique HS6 Code\n",
        "column = \"HS6 Code\"\n",
        "print(f'Number of unique {column} : ', df[column].nunique())\n",
        "\n",
        "# Frequent HS6 Code\n",
        "pd.DataFrame(df[column].value_counts().reset_index().values, columns=[column, \"Count\"]).head(10)"
      ]
    },
    {
      "cell_type": "markdown",
      "id": "90c954ac",
      "metadata": {
        "id": "90c954ac"
      },
      "source": [
        "### 13. Country of Departure\n",
        "*Country of Departure*(적출국가코드) indicates the country that the ship departed. The code follows the universal ISO 3166-1 standard two-letter(alpha-2) code. For example, **CN** refers to China."
      ]
    },
    {
      "cell_type": "code",
      "execution_count": null,
      "id": "1968f327",
      "metadata": {
        "scrolled": true,
        "id": "1968f327",
        "outputId": "5ceaf62c-99c5-47a3-aba1-2bb414b0195d"
      },
      "outputs": [
        {
          "name": "stdout",
          "output_type": "stream",
          "text": [
            "Number of unique Country of Departure :  102\n"
          ]
        },
        {
          "data": {
            "text/html": [
              "<div>\n",
              "<style scoped>\n",
              "    .dataframe tbody tr th:only-of-type {\n",
              "        vertical-align: middle;\n",
              "    }\n",
              "\n",
              "    .dataframe tbody tr th {\n",
              "        vertical-align: top;\n",
              "    }\n",
              "\n",
              "    .dataframe thead th {\n",
              "        text-align: right;\n",
              "    }\n",
              "</style>\n",
              "<table border=\"1\" class=\"dataframe\">\n",
              "  <thead>\n",
              "    <tr style=\"text-align: right;\">\n",
              "      <th></th>\n",
              "      <th>Country of Departure</th>\n",
              "      <th>Count</th>\n",
              "    </tr>\n",
              "  </thead>\n",
              "  <tbody>\n",
              "    <tr>\n",
              "      <th>0</th>\n",
              "      <td>CN</td>\n",
              "      <td>24956</td>\n",
              "    </tr>\n",
              "    <tr>\n",
              "      <th>1</th>\n",
              "      <td>JP</td>\n",
              "      <td>6255</td>\n",
              "    </tr>\n",
              "    <tr>\n",
              "      <th>2</th>\n",
              "      <td>US</td>\n",
              "      <td>5517</td>\n",
              "    </tr>\n",
              "    <tr>\n",
              "      <th>3</th>\n",
              "      <td>DE</td>\n",
              "      <td>2223</td>\n",
              "    </tr>\n",
              "    <tr>\n",
              "      <th>4</th>\n",
              "      <td>VN</td>\n",
              "      <td>2077</td>\n",
              "    </tr>\n",
              "    <tr>\n",
              "      <th>5</th>\n",
              "      <td>HK</td>\n",
              "      <td>1821</td>\n",
              "    </tr>\n",
              "    <tr>\n",
              "      <th>6</th>\n",
              "      <td>IT</td>\n",
              "      <td>1504</td>\n",
              "    </tr>\n",
              "    <tr>\n",
              "      <th>7</th>\n",
              "      <td>KR</td>\n",
              "      <td>1235</td>\n",
              "    </tr>\n",
              "    <tr>\n",
              "      <th>8</th>\n",
              "      <td>TW</td>\n",
              "      <td>818</td>\n",
              "    </tr>\n",
              "    <tr>\n",
              "      <th>9</th>\n",
              "      <td>SG</td>\n",
              "      <td>773</td>\n",
              "    </tr>\n",
              "  </tbody>\n",
              "</table>\n",
              "</div>"
            ],
            "text/plain": [
              "  Country of Departure  Count\n",
              "0                   CN  24956\n",
              "1                   JP   6255\n",
              "2                   US   5517\n",
              "3                   DE   2223\n",
              "4                   VN   2077\n",
              "5                   HK   1821\n",
              "6                   IT   1504\n",
              "7                   KR   1235\n",
              "8                   TW    818\n",
              "9                   SG    773"
            ]
          },
          "execution_count": 23,
          "metadata": {},
          "output_type": "execute_result"
        }
      ],
      "source": [
        "# Number of unique Country of Departure\n",
        "print('Number of unique Country of Departure : ' , df[\"Country of Departure\"].nunique())\n",
        "\n",
        "# Frequent Country of Departure\n",
        "pd.DataFrame(df[\"Country of Departure\"].value_counts().reset_index().values, columns=[\"Country of Departure\", \"Count\"]).head(10)"
      ]
    },
    {
      "cell_type": "markdown",
      "id": "8839adde",
      "metadata": {
        "id": "8839adde"
      },
      "source": [
        "### 14. Country of Origin\n",
        "Country of Origin(원산지국가코드) indicates the country of origin of the cargo. This also follows the universal ISO 3166-1 alpha-2 code."
      ]
    },
    {
      "cell_type": "code",
      "execution_count": null,
      "id": "bd5f5d0c",
      "metadata": {
        "scrolled": true,
        "id": "bd5f5d0c",
        "outputId": "b5901ebd-0db0-451e-94d3-d4469589f1eb"
      },
      "outputs": [
        {
          "name": "stdout",
          "output_type": "stream",
          "text": [
            "Number of unique Country of Origin :  119\n"
          ]
        },
        {
          "data": {
            "text/html": [
              "<div>\n",
              "<style scoped>\n",
              "    .dataframe tbody tr th:only-of-type {\n",
              "        vertical-align: middle;\n",
              "    }\n",
              "\n",
              "    .dataframe tbody tr th {\n",
              "        vertical-align: top;\n",
              "    }\n",
              "\n",
              "    .dataframe thead th {\n",
              "        text-align: right;\n",
              "    }\n",
              "</style>\n",
              "<table border=\"1\" class=\"dataframe\">\n",
              "  <thead>\n",
              "    <tr style=\"text-align: right;\">\n",
              "      <th></th>\n",
              "      <th>Country of Origin</th>\n",
              "      <th>Count</th>\n",
              "    </tr>\n",
              "  </thead>\n",
              "  <tbody>\n",
              "    <tr>\n",
              "      <th>0</th>\n",
              "      <td>CN</td>\n",
              "      <td>27486</td>\n",
              "    </tr>\n",
              "    <tr>\n",
              "      <th>1</th>\n",
              "      <td>JP</td>\n",
              "      <td>5172</td>\n",
              "    </tr>\n",
              "    <tr>\n",
              "      <th>2</th>\n",
              "      <td>US</td>\n",
              "      <td>4526</td>\n",
              "    </tr>\n",
              "    <tr>\n",
              "      <th>3</th>\n",
              "      <td>KR</td>\n",
              "      <td>2328</td>\n",
              "    </tr>\n",
              "    <tr>\n",
              "      <th>4</th>\n",
              "      <td>DE</td>\n",
              "      <td>2036</td>\n",
              "    </tr>\n",
              "    <tr>\n",
              "      <th>5</th>\n",
              "      <td>VN</td>\n",
              "      <td>1892</td>\n",
              "    </tr>\n",
              "    <tr>\n",
              "      <th>6</th>\n",
              "      <td>IT</td>\n",
              "      <td>1770</td>\n",
              "    </tr>\n",
              "    <tr>\n",
              "      <th>7</th>\n",
              "      <td>TW</td>\n",
              "      <td>794</td>\n",
              "    </tr>\n",
              "    <tr>\n",
              "      <th>8</th>\n",
              "      <td>FR</td>\n",
              "      <td>749</td>\n",
              "    </tr>\n",
              "    <tr>\n",
              "      <th>9</th>\n",
              "      <td>GB</td>\n",
              "      <td>533</td>\n",
              "    </tr>\n",
              "  </tbody>\n",
              "</table>\n",
              "</div>"
            ],
            "text/plain": [
              "  Country of Origin  Count\n",
              "0                CN  27486\n",
              "1                JP   5172\n",
              "2                US   4526\n",
              "3                KR   2328\n",
              "4                DE   2036\n",
              "5                VN   1892\n",
              "6                IT   1770\n",
              "7                TW    794\n",
              "8                FR    749\n",
              "9                GB    533"
            ]
          },
          "execution_count": 24,
          "metadata": {},
          "output_type": "execute_result"
        }
      ],
      "source": [
        "# Number of unique Country of Origin\n",
        "print('Number of unique Country of Origin : ' , df[\"Country of Origin\"].nunique())\n",
        "\n",
        "# Frequent Country of Origin\n",
        "pd.DataFrame(df[\"Country of Origin\"].value_counts().reset_index().values, columns=[\"Country of Origin\", \"Count\"]).head(10)"
      ]
    },
    {
      "cell_type": "markdown",
      "id": "4c69c4b2",
      "metadata": {
        "id": "4c69c4b2"
      },
      "source": [
        "### 15. Tax Rate\n",
        "*Tax Rate*(관세율) is the tax rate(%) of the item. Tax rate mainly depends on the class of item(*HS6 Code*). The type of value is float."
      ]
    },
    {
      "cell_type": "code",
      "execution_count": null,
      "id": "8d2dca32",
      "metadata": {
        "scrolled": true,
        "id": "8d2dca32",
        "outputId": "800a4204-bfe9-42a7-a0f3-15b7aee838eb"
      },
      "outputs": [
        {
          "name": "stdout",
          "output_type": "stream",
          "text": [
            "Number of unique Tax Rate :  122\n"
          ]
        },
        {
          "data": {
            "text/html": [
              "<div>\n",
              "<style scoped>\n",
              "    .dataframe tbody tr th:only-of-type {\n",
              "        vertical-align: middle;\n",
              "    }\n",
              "\n",
              "    .dataframe tbody tr th {\n",
              "        vertical-align: top;\n",
              "    }\n",
              "\n",
              "    .dataframe thead th {\n",
              "        text-align: right;\n",
              "    }\n",
              "</style>\n",
              "<table border=\"1\" class=\"dataframe\">\n",
              "  <thead>\n",
              "    <tr style=\"text-align: right;\">\n",
              "      <th></th>\n",
              "      <th>Tax Rate</th>\n",
              "      <th>Count</th>\n",
              "    </tr>\n",
              "  </thead>\n",
              "  <tbody>\n",
              "    <tr>\n",
              "      <th>0</th>\n",
              "      <td>0.0</td>\n",
              "      <td>20154</td>\n",
              "    </tr>\n",
              "    <tr>\n",
              "      <th>1</th>\n",
              "      <td>8.0</td>\n",
              "      <td>12669</td>\n",
              "    </tr>\n",
              "    <tr>\n",
              "      <th>2</th>\n",
              "      <td>6.5</td>\n",
              "      <td>4886</td>\n",
              "    </tr>\n",
              "    <tr>\n",
              "      <th>3</th>\n",
              "      <td>13.0</td>\n",
              "      <td>3445</td>\n",
              "    </tr>\n",
              "    <tr>\n",
              "      <th>4</th>\n",
              "      <td>3.2</td>\n",
              "      <td>1643</td>\n",
              "    </tr>\n",
              "    <tr>\n",
              "      <th>5</th>\n",
              "      <td>27.0</td>\n",
              "      <td>1011</td>\n",
              "    </tr>\n",
              "    <tr>\n",
              "      <th>6</th>\n",
              "      <td>3.9</td>\n",
              "      <td>930</td>\n",
              "    </tr>\n",
              "    <tr>\n",
              "      <th>7</th>\n",
              "      <td>4.8</td>\n",
              "      <td>878</td>\n",
              "    </tr>\n",
              "    <tr>\n",
              "      <th>8</th>\n",
              "      <td>10.0</td>\n",
              "      <td>848</td>\n",
              "    </tr>\n",
              "    <tr>\n",
              "      <th>9</th>\n",
              "      <td>2.4</td>\n",
              "      <td>707</td>\n",
              "    </tr>\n",
              "  </tbody>\n",
              "</table>\n",
              "</div>"
            ],
            "text/plain": [
              "   Tax Rate  Count\n",
              "0       0.0  20154\n",
              "1       8.0  12669\n",
              "2       6.5   4886\n",
              "3      13.0   3445\n",
              "4       3.2   1643\n",
              "5      27.0   1011\n",
              "6       3.9    930\n",
              "7       4.8    878\n",
              "8      10.0    848\n",
              "9       2.4    707"
            ]
          },
          "execution_count": 25,
          "metadata": {},
          "output_type": "execute_result"
        }
      ],
      "source": [
        "# Number of unique Tax Rate\n",
        "print('Number of unique Tax Rate : ' , df[\"Tax Rate\"].nunique())\n",
        "\n",
        "# Frequent Tax Rate values\n",
        "pd.DataFrame(df[\"Tax Rate\"].value_counts().reset_index()).rename(columns={'index':'Tax Rate', 'Tax Rate':'Count'}).head(10)"
      ]
    },
    {
      "cell_type": "code",
      "execution_count": null,
      "id": "fce11ee0",
      "metadata": {
        "id": "fce11ee0",
        "outputId": "56f678bf-1345-4509-aa21-2c4cb952a2ce"
      },
      "outputs": [
        {
          "data": {
            "image/png": "[encoded data removed]",
            "text/plain": [
              "<Figure size 792x432 with 1 Axes>"
            ]
          },
          "metadata": {
            "needs_background": "light"
          },
          "output_type": "display_data"
        }
      ],
      "source": [
        "# Distribution of Tax Rate\n",
        "sns.displot(df[\"Tax Rate\"]+1, color='salmon', kind='hist', log_scale=True, edgecolor='1', kde = True,\n",
        "           height=6, aspect=11/6).set_axis_labels(\"Tax Rate(log scale)\", \"Count\", fontsize=13)\n",
        "plt.savefig('TaxRate.pdf', bbox_inches='tight')"
      ]
    },
    {
      "cell_type": "markdown",
      "id": "5fbb65e3",
      "metadata": {
        "id": "5fbb65e3"
      },
      "source": [
        "### 16. Tax Type\n",
        "*Tax Type*(관세율구분코드) indicates type of taxation depending on the trade agreements. For example, code **A** refers to general duty and **C** refers to concessionary tariffs under WTO agreements."
      ]
    },
    {
      "cell_type": "code",
      "execution_count": null,
      "id": "b77839f5",
      "metadata": {
        "id": "b77839f5",
        "outputId": "49d41ad0-7e7e-4976-d6b4-055a173e2541"
      },
      "outputs": [
        {
          "name": "stdout",
          "output_type": "stream",
          "text": [
            "Number of unique Tax Type :  49\n"
          ]
        },
        {
          "data": {
            "text/html": [
              "<div>\n",
              "<style scoped>\n",
              "    .dataframe tbody tr th:only-of-type {\n",
              "        vertical-align: middle;\n",
              "    }\n",
              "\n",
              "    .dataframe tbody tr th {\n",
              "        vertical-align: top;\n",
              "    }\n",
              "\n",
              "    .dataframe thead th {\n",
              "        text-align: right;\n",
              "    }\n",
              "</style>\n",
              "<table border=\"1\" class=\"dataframe\">\n",
              "  <thead>\n",
              "    <tr style=\"text-align: right;\">\n",
              "      <th></th>\n",
              "      <th>Tax Type</th>\n",
              "      <th>Count</th>\n",
              "    </tr>\n",
              "  </thead>\n",
              "  <tbody>\n",
              "    <tr>\n",
              "      <th>0</th>\n",
              "      <td>A</td>\n",
              "      <td>20367</td>\n",
              "    </tr>\n",
              "    <tr>\n",
              "      <th>1</th>\n",
              "      <td>C</td>\n",
              "      <td>11245</td>\n",
              "    </tr>\n",
              "    <tr>\n",
              "      <th>2</th>\n",
              "      <td>FCN1</td>\n",
              "      <td>10569</td>\n",
              "    </tr>\n",
              "    <tr>\n",
              "      <th>3</th>\n",
              "      <td>FEU1</td>\n",
              "      <td>3442</td>\n",
              "    </tr>\n",
              "    <tr>\n",
              "      <th>4</th>\n",
              "      <td>CIT</td>\n",
              "      <td>2032</td>\n",
              "    </tr>\n",
              "    <tr>\n",
              "      <th>5</th>\n",
              "      <td>FUS1</td>\n",
              "      <td>1876</td>\n",
              "    </tr>\n",
              "    <tr>\n",
              "      <th>6</th>\n",
              "      <td>FAS1</td>\n",
              "      <td>1158</td>\n",
              "    </tr>\n",
              "    <tr>\n",
              "      <th>7</th>\n",
              "      <td>E1</td>\n",
              "      <td>752</td>\n",
              "    </tr>\n",
              "    <tr>\n",
              "      <th>8</th>\n",
              "      <td>FVN1</td>\n",
              "      <td>511</td>\n",
              "    </tr>\n",
              "    <tr>\n",
              "      <th>9</th>\n",
              "      <td>W2</td>\n",
              "      <td>401</td>\n",
              "    </tr>\n",
              "  </tbody>\n",
              "</table>\n",
              "</div>"
            ],
            "text/plain": [
              "  Tax Type  Count\n",
              "0        A  20367\n",
              "1        C  11245\n",
              "2     FCN1  10569\n",
              "3     FEU1   3442\n",
              "4      CIT   2032\n",
              "5     FUS1   1876\n",
              "6     FAS1   1158\n",
              "7       E1    752\n",
              "8     FVN1    511\n",
              "9       W2    401"
            ]
          },
          "execution_count": 27,
          "metadata": {},
          "output_type": "execute_result"
        }
      ],
      "source": [
        "# Number of unique Tax Type\n",
        "column = \"Tax Type\"\n",
        "print(f'Number of unique {column} : ', df[column].nunique())\n",
        "\n",
        "# Frequent Tax types\n",
        "pd.DataFrame(df[column].value_counts().reset_index().values, columns=[column, \"Count\"]).head(10)"
      ]
    },
    {
      "cell_type": "markdown",
      "id": "b4160b29",
      "metadata": {
        "id": "b4160b29"
      },
      "source": [
        "### 17. Country of Origin Indicator\n",
        "*Country of Origin Indicator*(원산지표시유무코드) specifies whether the country of origin is indicated on the cargo.\n",
        "\n",
        "- **B** : Indicated only on the package\n",
        "- **E** : Not indicated / Subject of exemption from country of origin indication\n",
        "- **G** : Indicated only on the item\n",
        "- **N** : Not indicated / Subject of country of origin indication\n",
        "- **S** : Not indicated / Not a subject of country of origin indication\n",
        "- **Y** : Indicated both on the item and the package"
      ]
    },
    {
      "cell_type": "code",
      "execution_count": null,
      "id": "69168424",
      "metadata": {
        "id": "69168424",
        "outputId": "88327ed6-174e-4c16-883f-5ddb96778488"
      },
      "outputs": [
        {
          "name": "stdout",
          "output_type": "stream",
          "text": [
            "Number of unique Country of Origin Indicator :  6\n"
          ]
        },
        {
          "data": {
            "text/html": [
              "<div>\n",
              "<style scoped>\n",
              "    .dataframe tbody tr th:only-of-type {\n",
              "        vertical-align: middle;\n",
              "    }\n",
              "\n",
              "    .dataframe tbody tr th {\n",
              "        vertical-align: top;\n",
              "    }\n",
              "\n",
              "    .dataframe thead th {\n",
              "        text-align: right;\n",
              "    }\n",
              "</style>\n",
              "<table border=\"1\" class=\"dataframe\">\n",
              "  <thead>\n",
              "    <tr style=\"text-align: right;\">\n",
              "      <th></th>\n",
              "      <th>Country of Origin Indicator</th>\n",
              "      <th>Count</th>\n",
              "    </tr>\n",
              "  </thead>\n",
              "  <tbody>\n",
              "    <tr>\n",
              "      <th>0</th>\n",
              "      <td>E</td>\n",
              "      <td>15269</td>\n",
              "    </tr>\n",
              "    <tr>\n",
              "      <th>1</th>\n",
              "      <td>G</td>\n",
              "      <td>12374</td>\n",
              "    </tr>\n",
              "    <tr>\n",
              "      <th>2</th>\n",
              "      <td>Y</td>\n",
              "      <td>11890</td>\n",
              "    </tr>\n",
              "    <tr>\n",
              "      <th>3</th>\n",
              "      <td>B</td>\n",
              "      <td>7750</td>\n",
              "    </tr>\n",
              "    <tr>\n",
              "      <th>4</th>\n",
              "      <td>S</td>\n",
              "      <td>6708</td>\n",
              "    </tr>\n",
              "    <tr>\n",
              "      <th>5</th>\n",
              "      <td>N</td>\n",
              "      <td>9</td>\n",
              "    </tr>\n",
              "  </tbody>\n",
              "</table>\n",
              "</div>"
            ],
            "text/plain": [
              "  Country of Origin Indicator  Count\n",
              "0                           E  15269\n",
              "1                           G  12374\n",
              "2                           Y  11890\n",
              "3                           B   7750\n",
              "4                           S   6708\n",
              "5                           N      9"
            ]
          },
          "execution_count": 28,
          "metadata": {},
          "output_type": "execute_result"
        }
      ],
      "source": [
        "# Number of unique Country of Origin Indicator\n",
        "column = \"Country of Origin Indicator\"\n",
        "print(f'Number of unique {column} : ', df[column].nunique())\n",
        "\n",
        "# Frequent Country of Origin Indicator\n",
        "pd.DataFrame(df[column].value_counts().reset_index()).rename(columns={'index':column, column:'Count'}).head(10)"
      ]
    },
    {
      "cell_type": "markdown",
      "id": "3ddd9d63",
      "metadata": {
        "id": "3ddd9d63"
      },
      "source": [
        "### 18. Net Mass\n",
        "*Net Mass*(신고중량) means the mass of the item excluding the mass of the package. The unit is kilogram(Kg). The value highly depends on the class of item, i.e., *HS6 Code*."
      ]
    },
    {
      "cell_type": "code",
      "execution_count": null,
      "id": "1774b8ae",
      "metadata": {
        "scrolled": true,
        "id": "1774b8ae",
        "outputId": "6017ac99-ca2f-40a4-89e4-a1d4efe7218b"
      },
      "outputs": [
        {
          "name": "stdout",
          "output_type": "stream",
          "text": [
            "Number of unique Net Mass :  5704\n"
          ]
        },
        {
          "data": {
            "text/html": [
              "<div>\n",
              "<style scoped>\n",
              "    .dataframe tbody tr th:only-of-type {\n",
              "        vertical-align: middle;\n",
              "    }\n",
              "\n",
              "    .dataframe tbody tr th {\n",
              "        vertical-align: top;\n",
              "    }\n",
              "\n",
              "    .dataframe thead th {\n",
              "        text-align: right;\n",
              "    }\n",
              "</style>\n",
              "<table border=\"1\" class=\"dataframe\">\n",
              "  <thead>\n",
              "    <tr style=\"text-align: right;\">\n",
              "      <th></th>\n",
              "      <th>Net Mass</th>\n",
              "      <th>Count</th>\n",
              "    </tr>\n",
              "  </thead>\n",
              "  <tbody>\n",
              "    <tr>\n",
              "      <th>0</th>\n",
              "      <td>1.0</td>\n",
              "      <td>1096</td>\n",
              "    </tr>\n",
              "    <tr>\n",
              "      <th>1</th>\n",
              "      <td>10.0</td>\n",
              "      <td>843</td>\n",
              "    </tr>\n",
              "    <tr>\n",
              "      <th>2</th>\n",
              "      <td>2.0</td>\n",
              "      <td>834</td>\n",
              "    </tr>\n",
              "    <tr>\n",
              "      <th>3</th>\n",
              "      <td>5.0</td>\n",
              "      <td>784</td>\n",
              "    </tr>\n",
              "    <tr>\n",
              "      <th>4</th>\n",
              "      <td>0.5</td>\n",
              "      <td>630</td>\n",
              "    </tr>\n",
              "    <tr>\n",
              "      <th>5</th>\n",
              "      <td>3.0</td>\n",
              "      <td>608</td>\n",
              "    </tr>\n",
              "    <tr>\n",
              "      <th>6</th>\n",
              "      <td>0.1</td>\n",
              "      <td>594</td>\n",
              "    </tr>\n",
              "    <tr>\n",
              "      <th>7</th>\n",
              "      <td>20.0</td>\n",
              "      <td>590</td>\n",
              "    </tr>\n",
              "    <tr>\n",
              "      <th>8</th>\n",
              "      <td>0.4</td>\n",
              "      <td>552</td>\n",
              "    </tr>\n",
              "    <tr>\n",
              "      <th>9</th>\n",
              "      <td>100.0</td>\n",
              "      <td>495</td>\n",
              "    </tr>\n",
              "  </tbody>\n",
              "</table>\n",
              "</div>"
            ],
            "text/plain": [
              "   Net Mass  Count\n",
              "0       1.0   1096\n",
              "1      10.0    843\n",
              "2       2.0    834\n",
              "3       5.0    784\n",
              "4       0.5    630\n",
              "5       3.0    608\n",
              "6       0.1    594\n",
              "7      20.0    590\n",
              "8       0.4    552\n",
              "9     100.0    495"
            ]
          },
          "execution_count": 29,
          "metadata": {},
          "output_type": "execute_result"
        }
      ],
      "source": [
        "# Number of unique Net Mass\n",
        "column = \"Net Mass\"\n",
        "print(f'Number of unique {column} : ', df[column].nunique())\n",
        "\n",
        "# Frequent Net Mass\n",
        "pd.DataFrame(df[column].value_counts().reset_index()).rename(columns={'index':column, column:'Count'}).head(10)"
      ]
    },
    {
      "cell_type": "code",
      "execution_count": null,
      "id": "4a04b4b2",
      "metadata": {
        "scrolled": false,
        "id": "4a04b4b2",
        "outputId": "d2b49f0b-9ffb-491b-ee80-3fbd76771aaa"
      },
      "outputs": [
        {
          "data": {
            "image/png": "[encoded data removed]",
            "text/plain": [
              "<Figure size 792x432 with 1 Axes>"
            ]
          },
          "metadata": {
            "needs_background": "light"
          },
          "output_type": "display_data"
        }
      ],
      "source": [
        "# Distribution of Net Mass\n",
        "sns.displot(df[column]+1, color='salmon', kind='hist', log_scale=True, edgecolor='1', kde = True,\n",
        "           height=6, aspect=11/6).set_axis_labels(f\"{column}(log scale)\", \"Count\", fontsize=13)\n",
        "\n",
        "plt.savefig('NetMass.pdf', bbox_inches='tight')"
      ]
    },
    {
      "cell_type": "markdown",
      "id": "09da47d2",
      "metadata": {
        "id": "09da47d2"
      },
      "source": [
        "### 19. Item Price\n",
        "*Item Price*(과세가격원화금액) refers to the price that the tariff is imposed on. The price is in KRW. Usually, the value is assumed as the price of the goods. Sometimes it includes transportation fees or packaging costs. **0.0** is regarded as null value."
      ]
    },
    {
      "cell_type": "code",
      "execution_count": null,
      "id": "c3bfe8fc",
      "metadata": {
        "id": "c3bfe8fc",
        "outputId": "cc234353-1bb3-486b-a2c1-1d017a1447e5"
      },
      "outputs": [
        {
          "name": "stdout",
          "output_type": "stream",
          "text": [
            "Number of unique Item Price :  15874\n"
          ]
        },
        {
          "data": {
            "text/html": [
              "<div>\n",
              "<style scoped>\n",
              "    .dataframe tbody tr th:only-of-type {\n",
              "        vertical-align: middle;\n",
              "    }\n",
              "\n",
              "    .dataframe tbody tr th {\n",
              "        vertical-align: top;\n",
              "    }\n",
              "\n",
              "    .dataframe thead th {\n",
              "        text-align: right;\n",
              "    }\n",
              "</style>\n",
              "<table border=\"1\" class=\"dataframe\">\n",
              "  <thead>\n",
              "    <tr style=\"text-align: right;\">\n",
              "      <th></th>\n",
              "      <th>Item Price</th>\n",
              "      <th>Count</th>\n",
              "    </tr>\n",
              "  </thead>\n",
              "  <tbody>\n",
              "    <tr>\n",
              "      <th>0</th>\n",
              "      <td>0.0</td>\n",
              "      <td>506</td>\n",
              "    </tr>\n",
              "    <tr>\n",
              "      <th>1</th>\n",
              "      <td>31824000.0</td>\n",
              "      <td>163</td>\n",
              "    </tr>\n",
              "    <tr>\n",
              "      <th>2</th>\n",
              "      <td>4512000.0</td>\n",
              "      <td>109</td>\n",
              "    </tr>\n",
              "    <tr>\n",
              "      <th>3</th>\n",
              "      <td>15912000.0</td>\n",
              "      <td>90</td>\n",
              "    </tr>\n",
              "    <tr>\n",
              "      <th>4</th>\n",
              "      <td>7036800.0</td>\n",
              "      <td>90</td>\n",
              "    </tr>\n",
              "    <tr>\n",
              "      <th>5</th>\n",
              "      <td>26520000.0</td>\n",
              "      <td>79</td>\n",
              "    </tr>\n",
              "    <tr>\n",
              "      <th>6</th>\n",
              "      <td>2272800.0</td>\n",
              "      <td>68</td>\n",
              "    </tr>\n",
              "    <tr>\n",
              "      <th>7</th>\n",
              "      <td>3.0</td>\n",
              "      <td>65</td>\n",
              "    </tr>\n",
              "    <tr>\n",
              "      <th>8</th>\n",
              "      <td>1.2</td>\n",
              "      <td>63</td>\n",
              "    </tr>\n",
              "    <tr>\n",
              "      <th>9</th>\n",
              "      <td>21216000.0</td>\n",
              "      <td>59</td>\n",
              "    </tr>\n",
              "  </tbody>\n",
              "</table>\n",
              "</div>"
            ],
            "text/plain": [
              "   Item Price  Count\n",
              "0         0.0    506\n",
              "1  31824000.0    163\n",
              "2   4512000.0    109\n",
              "3  15912000.0     90\n",
              "4   7036800.0     90\n",
              "5  26520000.0     79\n",
              "6   2272800.0     68\n",
              "7         3.0     65\n",
              "8         1.2     63\n",
              "9  21216000.0     59"
            ]
          },
          "execution_count": 31,
          "metadata": {},
          "output_type": "execute_result"
        }
      ],
      "source": [
        "# Number of unique Net Mass\n",
        "column = \"Item Price\"\n",
        "print(f'Number of unique {column} : ', df[column].nunique())\n",
        "\n",
        "# Frequent Net Mass\n",
        "pd.DataFrame(df[column].value_counts().reset_index()).rename(columns={'index':column, column:'Count'}).head(10)"
      ]
    },
    {
      "cell_type": "code",
      "execution_count": null,
      "id": "ffcfcb7e",
      "metadata": {
        "id": "ffcfcb7e",
        "outputId": "73dfb74f-9b86-4feb-e6ca-1f8eab673999"
      },
      "outputs": [
        {
          "data": {
            "image/png": "[encoded data removed]",
            "text/plain": [
              "<Figure size 792x432 with 1 Axes>"
            ]
          },
          "metadata": {
            "needs_background": "light"
          },
          "output_type": "display_data"
        }
      ],
      "source": [
        "# Distribution of Item Price\n",
        "sns.displot(df[column]+1, color='salmon', kind='hist', log_scale=True, edgecolor='1', kde = True,\n",
        "           height=6, aspect=11/6).set_axis_labels(f\"{column}(log scale)\", \"Count\", fontsize=13)\n",
        "plt.savefig('ItemPrice.pdf', bbox_inches='tight')"
      ]
    },
    {
      "cell_type": "markdown",
      "id": "164254ea",
      "metadata": {
        "id": "164254ea"
      },
      "source": [
        "### 20. Fraud\n",
        "The customs office inspects suspicious items.  As a result of the inspection, *Fraud*(우범여부) indicates if there exists any error in the declaration. **0** means the declaration passed the inspection, and **1** means it did not."
      ]
    },
    {
      "cell_type": "code",
      "execution_count": null,
      "id": "84e422de",
      "metadata": {
        "scrolled": true,
        "id": "84e422de",
        "outputId": "ca791d6f-6f49-4e0b-8359-d1eb7a9fe714"
      },
      "outputs": [
        {
          "data": {
            "text/html": [
              "<div>\n",
              "<style scoped>\n",
              "    .dataframe tbody tr th:only-of-type {\n",
              "        vertical-align: middle;\n",
              "    }\n",
              "\n",
              "    .dataframe tbody tr th {\n",
              "        vertical-align: top;\n",
              "    }\n",
              "\n",
              "    .dataframe thead th {\n",
              "        text-align: right;\n",
              "    }\n",
              "</style>\n",
              "<table border=\"1\" class=\"dataframe\">\n",
              "  <thead>\n",
              "    <tr style=\"text-align: right;\">\n",
              "      <th></th>\n",
              "      <th>Fraud</th>\n",
              "      <th>Count</th>\n",
              "    </tr>\n",
              "  </thead>\n",
              "  <tbody>\n",
              "    <tr>\n",
              "      <th>0</th>\n",
              "      <td>0</td>\n",
              "      <td>42347</td>\n",
              "    </tr>\n",
              "    <tr>\n",
              "      <th>1</th>\n",
              "      <td>1</td>\n",
              "      <td>11653</td>\n",
              "    </tr>\n",
              "  </tbody>\n",
              "</table>\n",
              "</div>"
            ],
            "text/plain": [
              "  Fraud  Count\n",
              "0     0  42347\n",
              "1     1  11653"
            ]
          },
          "execution_count": 33,
          "metadata": {},
          "output_type": "execute_result"
        }
      ],
      "source": [
        "column='Fraud'\n",
        "\n",
        "# Number of normal and illicit declarations\n",
        "pd.DataFrame(df[column].value_counts().reset_index()).rename(columns={'index':column, column:'Count'}).head(10)"
      ]
    },
    {
      "cell_type": "markdown",
      "id": "2d9ea8c3",
      "metadata": {
        "id": "2d9ea8c3"
      },
      "source": [
        "21.6% of the data is fraud declaration."
      ]
    },
    {
      "cell_type": "markdown",
      "id": "a81c0644",
      "metadata": {
        "id": "a81c0644"
      },
      "source": [
        "### 21. Critical Fraud\n",
        "*Critical Fraud*(핵심우범) indicates the type of fraud depending on the severity. **0** means the declaration passed the inspection, as same as the *Fraud* column. **1** means a minor error, while **2** refers to some critical violation of the law such as tax evasion or insafe items."
      ]
    },
    {
      "cell_type": "code",
      "execution_count": null,
      "id": "c2de7dd4",
      "metadata": {
        "scrolled": true,
        "id": "c2de7dd4",
        "outputId": "90e7a21c-a302-4578-8fd4-bd892002197e"
      },
      "outputs": [
        {
          "data": {
            "text/html": [
              "<div>\n",
              "<style scoped>\n",
              "    .dataframe tbody tr th:only-of-type {\n",
              "        vertical-align: middle;\n",
              "    }\n",
              "\n",
              "    .dataframe tbody tr th {\n",
              "        vertical-align: top;\n",
              "    }\n",
              "\n",
              "    .dataframe thead th {\n",
              "        text-align: right;\n",
              "    }\n",
              "</style>\n",
              "<table border=\"1\" class=\"dataframe\">\n",
              "  <thead>\n",
              "    <tr style=\"text-align: right;\">\n",
              "      <th></th>\n",
              "      <th>Critical Fraud</th>\n",
              "      <th>Count</th>\n",
              "    </tr>\n",
              "  </thead>\n",
              "  <tbody>\n",
              "    <tr>\n",
              "      <th>0</th>\n",
              "      <td>0</td>\n",
              "      <td>42347</td>\n",
              "    </tr>\n",
              "    <tr>\n",
              "      <th>1</th>\n",
              "      <td>1</td>\n",
              "      <td>11108</td>\n",
              "    </tr>\n",
              "    <tr>\n",
              "      <th>2</th>\n",
              "      <td>2</td>\n",
              "      <td>545</td>\n",
              "    </tr>\n",
              "  </tbody>\n",
              "</table>\n",
              "</div>"
            ],
            "text/plain": [
              "  Critical Fraud  Count\n",
              "0              0  42347\n",
              "1              1  11108\n",
              "2              2    545"
            ]
          },
          "execution_count": 34,
          "metadata": {},
          "output_type": "execute_result"
        }
      ],
      "source": [
        "column='Critical Fraud'\n",
        "\n",
        "# Number of each fraud\n",
        "pd.DataFrame(df[column].value_counts().reset_index()).rename(columns={'index':column, column:'Count'}).head(10)"
      ]
    }
  ],
  "metadata": {
    "kernelspec": {
      "display_name": "wco",
      "language": "python",
      "name": "wco"
    },
    "language_info": {
      "codemirror_mode": {
        "name": "ipython",
        "version": 3
      },
      "file_extension": ".py",
      "mimetype": "text/x-python",
      "name": "python",
      "nbconvert_exporter": "python",
      "pygments_lexer": "ipython3",
      "version": "3.7.10"
    },
    "colab": {
      "provenance": [],
      "include_colab_link": true
    }
  },
  "nbformat": 4,
  "nbformat_minor": 5
}