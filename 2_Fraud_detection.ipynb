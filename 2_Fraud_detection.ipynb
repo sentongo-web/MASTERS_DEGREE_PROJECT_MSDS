{
  "cells": [
    {
      "cell_type": "markdown",
      "metadata": {
        "id": "view-in-github",
        "colab_type": "text"
      },
      "source": [
        "<a href=\"https://colab.research.google.com/github/sentongo-web/MASTERS_DEGREE_PROJECT_MSDS/blob/main/2_Fraud_detection.ipynb\" target=\"_parent\"><img src=\"https://colab.research.google.com/assets/colab-badge.svg\" alt=\"Open In Colab\"/></a>"
      ]
    },
    {
      "cell_type": "code",
      "execution_count": null,
      "metadata": {
        "id": "Z7t-ySCsOz_L"
      },
      "outputs": [],
      "source": [
        "import os\n",
        "import pickle\n",
        "import pandas as pd\n",
        "import numpy as np\n",
        "from sklearn.preprocessing import MinMaxScaler, LabelEncoder\n",
        "from xgboost import XGBClassifier\n",
        "from datetime import datetime"
      ]
    },
    {
      "cell_type": "markdown",
      "metadata": {
        "id": "GuDg8H5VPJTp"
      },
      "source": [
        "## 0. Mount to Drive"
      ]
    },
    {
      "cell_type": "code",
      "execution_count": null,
      "metadata": {
        "colab": {
          "base_uri": "https://localhost:8080/"
        },
        "id": "HqZYFebVPIK3",
        "outputId": "b96903fc-bbcc-48ea-8f70-2b2ff5af7f14"
      },
      "outputs": [
        {
          "name": "stdout",
          "output_type": "stream",
          "text": [
            "Mounted at /content/drive\n",
            "/content/drive/MyDrive/Customs-Declaration-Datasets-en\n"
          ]
        }
      ],
      "source": [
        "from google.colab import drive\n",
        "drive.mount('/content/drive')\n",
        "%cd drive/MyDrive/Customs-Declaration-Datasets-en/"
      ]
    },
    {
      "cell_type": "markdown",
      "metadata": {
        "id": "hOqTyWpyOz_O"
      },
      "source": [
        "## 1. Load Dataset"
      ]
    },
    {
      "cell_type": "code",
      "execution_count": null,
      "metadata": {
        "id": "hWqvOjMQOz_R"
      },
      "outputs": [],
      "source": [
        "X_train = pd.read_csv('./data_enc/encoded_train_eng.csv')\n",
        "X_valid = pd.read_csv('./data_enc/encoded_valid_eng.csv')"
      ]
    },
    {
      "cell_type": "code",
      "execution_count": null,
      "metadata": {
        "id": "kpN5etZBOz_R"
      },
      "outputs": [],
      "source": [
        "y_train= pd.read_csv('./data_enc/y_train_eng.csv')\n",
        "y_valid= pd.read_csv('./data_enc/y_valid_eng.csv')"
      ]
    },
    {
      "cell_type": "code",
      "execution_count": null,
      "metadata": {
        "colab": {
          "base_uri": "https://localhost:8080/",
          "height": 650
        },
        "id": "7VtHtEULPuyI",
        "outputId": "c3b34b54-6bb5-44e1-94bd-b53d0ed475dc"
      },
      "outputs": [
        {
          "data": {
            "text/html": [
              "<div>\n",
              "<style scoped>\n",
              "    .dataframe tbody tr th:only-of-type {\n",
              "        vertical-align: middle;\n",
              "    }\n",
              "\n",
              "    .dataframe tbody tr th {\n",
              "        vertical-align: top;\n",
              "    }\n",
              "\n",
              "    .dataframe thead th {\n",
              "        text-align: right;\n",
              "    }\n",
              "</style>\n",
              "<table border=\"1\" class=\"dataframe\">\n",
              "  <thead>\n",
              "    <tr style=\"text-align: right;\">\n",
              "      <th></th>\n",
              "      <th>Office ID</th>\n",
              "      <th>Process Type</th>\n",
              "      <th>Import Type</th>\n",
              "      <th>Import Use</th>\n",
              "      <th>Payment Type</th>\n",
              "      <th>Mode of Transport</th>\n",
              "      <th>Declarant ID</th>\n",
              "      <th>Importer ID</th>\n",
              "      <th>Seller ID</th>\n",
              "      <th>Courier ID</th>\n",
              "      <th>HS6 Code</th>\n",
              "      <th>Country of Departure</th>\n",
              "      <th>Country of Origin</th>\n",
              "      <th>Tax Rate</th>\n",
              "      <th>Tax Type</th>\n",
              "      <th>Country of Origin Indicator</th>\n",
              "      <th>Net Mass</th>\n",
              "      <th>Item Price</th>\n",
              "    </tr>\n",
              "  </thead>\n",
              "  <tbody>\n",
              "    <tr>\n",
              "      <th>0</th>\n",
              "      <td>1</td>\n",
              "      <td>1</td>\n",
              "      <td>1</td>\n",
              "      <td>1</td>\n",
              "      <td>1</td>\n",
              "      <td>1</td>\n",
              "      <td>1</td>\n",
              "      <td>1</td>\n",
              "      <td>1</td>\n",
              "      <td>1</td>\n",
              "      <td>1</td>\n",
              "      <td>1</td>\n",
              "      <td>1</td>\n",
              "      <td>1</td>\n",
              "      <td>1</td>\n",
              "      <td>1</td>\n",
              "      <td>1.799250e-06</td>\n",
              "      <td>5.283441e-05</td>\n",
              "    </tr>\n",
              "    <tr>\n",
              "      <th>1</th>\n",
              "      <td>2</td>\n",
              "      <td>1</td>\n",
              "      <td>1</td>\n",
              "      <td>1</td>\n",
              "      <td>1</td>\n",
              "      <td>2</td>\n",
              "      <td>2</td>\n",
              "      <td>2</td>\n",
              "      <td>2</td>\n",
              "      <td>1</td>\n",
              "      <td>2</td>\n",
              "      <td>2</td>\n",
              "      <td>2</td>\n",
              "      <td>2</td>\n",
              "      <td>2</td>\n",
              "      <td>2</td>\n",
              "      <td>1.891212e-04</td>\n",
              "      <td>5.333071e-05</td>\n",
              "    </tr>\n",
              "    <tr>\n",
              "      <th>2</th>\n",
              "      <td>3</td>\n",
              "      <td>1</td>\n",
              "      <td>1</td>\n",
              "      <td>1</td>\n",
              "      <td>1</td>\n",
              "      <td>2</td>\n",
              "      <td>3</td>\n",
              "      <td>3</td>\n",
              "      <td>3</td>\n",
              "      <td>1</td>\n",
              "      <td>3</td>\n",
              "      <td>2</td>\n",
              "      <td>2</td>\n",
              "      <td>3</td>\n",
              "      <td>3</td>\n",
              "      <td>3</td>\n",
              "      <td>3.448563e-07</td>\n",
              "      <td>7.597590e-07</td>\n",
              "    </tr>\n",
              "    <tr>\n",
              "      <th>3</th>\n",
              "      <td>2</td>\n",
              "      <td>1</td>\n",
              "      <td>1</td>\n",
              "      <td>1</td>\n",
              "      <td>2</td>\n",
              "      <td>2</td>\n",
              "      <td>4</td>\n",
              "      <td>4</td>\n",
              "      <td>4</td>\n",
              "      <td>1</td>\n",
              "      <td>4</td>\n",
              "      <td>3</td>\n",
              "      <td>3</td>\n",
              "      <td>1</td>\n",
              "      <td>4</td>\n",
              "      <td>2</td>\n",
              "      <td>1.535693e-04</td>\n",
              "      <td>2.097236e-04</td>\n",
              "    </tr>\n",
              "    <tr>\n",
              "      <th>4</th>\n",
              "      <td>3</td>\n",
              "      <td>1</td>\n",
              "      <td>1</td>\n",
              "      <td>1</td>\n",
              "      <td>1</td>\n",
              "      <td>1</td>\n",
              "      <td>5</td>\n",
              "      <td>5</td>\n",
              "      <td>5</td>\n",
              "      <td>1</td>\n",
              "      <td>5</td>\n",
              "      <td>3</td>\n",
              "      <td>3</td>\n",
              "      <td>4</td>\n",
              "      <td>2</td>\n",
              "      <td>3</td>\n",
              "      <td>3.998334e-04</td>\n",
              "      <td>9.033619e-04</td>\n",
              "    </tr>\n",
              "    <tr>\n",
              "      <th>...</th>\n",
              "      <td>...</td>\n",
              "      <td>...</td>\n",
              "      <td>...</td>\n",
              "      <td>...</td>\n",
              "      <td>...</td>\n",
              "      <td>...</td>\n",
              "      <td>...</td>\n",
              "      <td>...</td>\n",
              "      <td>...</td>\n",
              "      <td>...</td>\n",
              "      <td>...</td>\n",
              "      <td>...</td>\n",
              "      <td>...</td>\n",
              "      <td>...</td>\n",
              "      <td>...</td>\n",
              "      <td>...</td>\n",
              "      <td>...</td>\n",
              "      <td>...</td>\n",
              "    </tr>\n",
              "    <tr>\n",
              "      <th>37380</th>\n",
              "      <td>2</td>\n",
              "      <td>1</td>\n",
              "      <td>1</td>\n",
              "      <td>1</td>\n",
              "      <td>2</td>\n",
              "      <td>2</td>\n",
              "      <td>129</td>\n",
              "      <td>5031</td>\n",
              "      <td>428</td>\n",
              "      <td>1</td>\n",
              "      <td>27</td>\n",
              "      <td>2</td>\n",
              "      <td>2</td>\n",
              "      <td>5</td>\n",
              "      <td>4</td>\n",
              "      <td>2</td>\n",
              "      <td>9.546022e-06</td>\n",
              "      <td>4.879585e-08</td>\n",
              "    </tr>\n",
              "    <tr>\n",
              "      <th>37381</th>\n",
              "      <td>3</td>\n",
              "      <td>1</td>\n",
              "      <td>4</td>\n",
              "      <td>6</td>\n",
              "      <td>2</td>\n",
              "      <td>1</td>\n",
              "      <td>329</td>\n",
              "      <td>7703</td>\n",
              "      <td>369</td>\n",
              "      <td>1</td>\n",
              "      <td>26</td>\n",
              "      <td>2</td>\n",
              "      <td>2</td>\n",
              "      <td>10</td>\n",
              "      <td>3</td>\n",
              "      <td>1</td>\n",
              "      <td>3.228655e-05</td>\n",
              "      <td>4.978624e-06</td>\n",
              "    </tr>\n",
              "    <tr>\n",
              "      <th>37382</th>\n",
              "      <td>2</td>\n",
              "      <td>1</td>\n",
              "      <td>1</td>\n",
              "      <td>1</td>\n",
              "      <td>1</td>\n",
              "      <td>1</td>\n",
              "      <td>337</td>\n",
              "      <td>158</td>\n",
              "      <td>1110</td>\n",
              "      <td>1</td>\n",
              "      <td>123</td>\n",
              "      <td>2</td>\n",
              "      <td>2</td>\n",
              "      <td>38</td>\n",
              "      <td>8</td>\n",
              "      <td>4</td>\n",
              "      <td>8.329863e-07</td>\n",
              "      <td>4.406955e-07</td>\n",
              "    </tr>\n",
              "    <tr>\n",
              "      <th>37383</th>\n",
              "      <td>3</td>\n",
              "      <td>1</td>\n",
              "      <td>1</td>\n",
              "      <td>1</td>\n",
              "      <td>1</td>\n",
              "      <td>2</td>\n",
              "      <td>110</td>\n",
              "      <td>12719</td>\n",
              "      <td>2370</td>\n",
              "      <td>1</td>\n",
              "      <td>449</td>\n",
              "      <td>11</td>\n",
              "      <td>9</td>\n",
              "      <td>1</td>\n",
              "      <td>2</td>\n",
              "      <td>3</td>\n",
              "      <td>3.415577e-04</td>\n",
              "      <td>4.422999e-05</td>\n",
              "    </tr>\n",
              "    <tr>\n",
              "      <th>37384</th>\n",
              "      <td>3</td>\n",
              "      <td>1</td>\n",
              "      <td>1</td>\n",
              "      <td>1</td>\n",
              "      <td>1</td>\n",
              "      <td>2</td>\n",
              "      <td>281</td>\n",
              "      <td>12720</td>\n",
              "      <td>7578</td>\n",
              "      <td>1</td>\n",
              "      <td>164</td>\n",
              "      <td>8</td>\n",
              "      <td>8</td>\n",
              "      <td>2</td>\n",
              "      <td>2</td>\n",
              "      <td>2</td>\n",
              "      <td>4.997918e-07</td>\n",
              "      <td>8.941647e-09</td>\n",
              "    </tr>\n",
              "  </tbody>\n",
              "</table>\n",
              "<p>37385 rows × 18 columns</p>\n",
              "</div>"
            ],
            "text/plain": [
              "       Office ID  Process Type  Import Type  Import Use  Payment Type  \\\n",
              "0              1             1            1           1             1   \n",
              "1              2             1            1           1             1   \n",
              "2              3             1            1           1             1   \n",
              "3              2             1            1           1             2   \n",
              "4              3             1            1           1             1   \n",
              "...          ...           ...          ...         ...           ...   \n",
              "37380          2             1            1           1             2   \n",
              "37381          3             1            4           6             2   \n",
              "37382          2             1            1           1             1   \n",
              "37383          3             1            1           1             1   \n",
              "37384          3             1            1           1             1   \n",
              "\n",
              "       Mode of Transport  Declarant ID  Importer ID  Seller ID  Courier ID  \\\n",
              "0                      1             1            1          1           1   \n",
              "1                      2             2            2          2           1   \n",
              "2                      2             3            3          3           1   \n",
              "3                      2             4            4          4           1   \n",
              "4                      1             5            5          5           1   \n",
              "...                  ...           ...          ...        ...         ...   \n",
              "37380                  2           129         5031        428           1   \n",
              "37381                  1           329         7703        369           1   \n",
              "37382                  1           337          158       1110           1   \n",
              "37383                  2           110        12719       2370           1   \n",
              "37384                  2           281        12720       7578           1   \n",
              "\n",
              "       HS6 Code  Country of Departure  Country of Origin  Tax Rate  Tax Type  \\\n",
              "0             1                     1                  1         1         1   \n",
              "1             2                     2                  2         2         2   \n",
              "2             3                     2                  2         3         3   \n",
              "3             4                     3                  3         1         4   \n",
              "4             5                     3                  3         4         2   \n",
              "...         ...                   ...                ...       ...       ...   \n",
              "37380        27                     2                  2         5         4   \n",
              "37381        26                     2                  2        10         3   \n",
              "37382       123                     2                  2        38         8   \n",
              "37383       449                    11                  9         1         2   \n",
              "37384       164                     8                  8         2         2   \n",
              "\n",
              "       Country of Origin Indicator      Net Mass    Item Price  \n",
              "0                                1  1.799250e-06  5.283441e-05  \n",
              "1                                2  1.891212e-04  5.333071e-05  \n",
              "2                                3  3.448563e-07  7.597590e-07  \n",
              "3                                2  1.535693e-04  2.097236e-04  \n",
              "4                                3  3.998334e-04  9.033619e-04  \n",
              "...                            ...           ...           ...  \n",
              "37380                            2  9.546022e-06  4.879585e-08  \n",
              "37381                            1  3.228655e-05  4.978624e-06  \n",
              "37382                            4  8.329863e-07  4.406955e-07  \n",
              "37383                            3  3.415577e-04  4.422999e-05  \n",
              "37384                            2  4.997918e-07  8.941647e-09  \n",
              "\n",
              "[37385 rows x 18 columns]"
            ]
          },
          "execution_count": 4,
          "metadata": {},
          "output_type": "execute_result"
        }
      ],
      "source": [
        "X_train"
      ]
    },
    {
      "cell_type": "markdown",
      "metadata": {
        "id": "y8BfC8xBOz_T"
      },
      "source": [
        "## 2. Over sampling"
      ]
    },
    {
      "cell_type": "code",
      "execution_count": null,
      "metadata": {
        "id": "JKIo8frYOz_T"
      },
      "outputs": [],
      "source": [
        "from imblearn.over_sampling import RandomOverSampler"
      ]
    },
    {
      "cell_type": "code",
      "execution_count": null,
      "metadata": {
        "id": "WdOsnfusOz_U"
      },
      "outputs": [],
      "source": [
        "# Random oversampling\n",
        "over_sampler = RandomOverSampler(random_state = 11)\n",
        "X_train_over, y_train_over = over_sampler.fit_resample(X_train, y_train)"
      ]
    },
    {
      "cell_type": "code",
      "execution_count": null,
      "metadata": {
        "colab": {
          "base_uri": "https://localhost:8080/"
        },
        "id": "OpzsQsYHlZGA",
        "outputId": "fe2dac28-d203-49bf-ca1f-b5aec6f9e9ec"
      },
      "outputs": [
        {
          "name": "stdout",
          "output_type": "stream",
          "text": [
            "Before oversampling:\n",
            "Fraud\n",
            "0        29271\n",
            "1         8114\n",
            "dtype: int64\n",
            "\n",
            "After oversampling:\n",
            "Fraud\n",
            "1        29271\n",
            "0        29271\n",
            "dtype: int64\n"
          ]
        }
      ],
      "source": [
        "print(\"Before oversampling:\")\n",
        "print(y_train.value_counts())\n",
        "print(\"\\nAfter oversampling:\")\n",
        "print(y_train_over.value_counts())"
      ]
    },
    {
      "cell_type": "code",
      "execution_count": null,
      "metadata": {
        "id": "a519rVnsT1SS"
      },
      "outputs": [],
      "source": [
        "# formatting data\n",
        "y_train_over = np.array(y_train_over).ravel()\n",
        "y_valid = np.array(y_valid).ravel()"
      ]
    },
    {
      "cell_type": "markdown",
      "metadata": {
        "id": "OKD8ZPOXOz_X"
      },
      "source": [
        "## 3. Train XGBoost model"
      ]
    },
    {
      "cell_type": "code",
      "execution_count": null,
      "metadata": {
        "id": "WPXeOOpFOz_X"
      },
      "outputs": [],
      "source": [
        "xgb_model = XGBClassifier(base_score=0.5, booster='gbtree', colsample_bylevel=1,\n",
        "              colsample_bynode=1, colsample_bytree=0.6, gamma=1,\n",
        "              importance_type='gain', interaction_constraints='',\n",
        "              learning_rate=0.5994130001745845, max_delta_step=0, max_depth=4,\n",
        "              min_child_weight=2,\n",
        "              n_estimators=424, n_jobs=20, num_parallel_tree=1, random_state=0,\n",
        "              reg_alpha=0, reg_lambda=1, scale_pos_weight=1, subsample=1.0,\n",
        "              tree_method='exact', validate_parameters=1, verbosity=0, objective= 'binary:logistic', eval_metric='logloss')"
      ]
    },
    {
      "cell_type": "code",
      "execution_count": null,
      "metadata": {
        "id": "GpsP79SCOz_V"
      },
      "outputs": [],
      "source": [
        "def timer(start_time=None):\n",
        "    if not start_time:\n",
        "        start_time = datetime.now()\n",
        "        return start_time\n",
        "    elif start_time:\n",
        "        thour, temp_sec = divmod((datetime.now() - start_time).total_seconds(), 3600)\n",
        "        tmin, tsec = divmod(temp_sec, 60)\n",
        "        print('\\n Time taken: %i hours %i minutes and %s seconds.' % (thour, tmin, round(tsec, 2)))"
      ]
    },
    {
      "cell_type": "code",
      "execution_count": null,
      "metadata": {
        "id": "1m1NMm5E-p8q"
      },
      "outputs": [],
      "source": [
        "from sklearn.metrics import confusion_matrix,precision_score,accuracy_score,recall_score,f1_score,roc_auc_score\n",
        "\n",
        "def get_clf_eval(y_test, pred=None, pred_proba=None):\n",
        "    confusion = confusion_matrix(y_test, pred)\n",
        "    accuracy = accuracy_score(y_test, pred)\n",
        "    precision = precision_score(y_test, pred, average ='macro')\n",
        "    recall = recall_score(y_test, pred, average ='macro')\n",
        "    f1 = f1_score(y_test, pred, average ='macro')\n",
        "\n",
        "    print(\"confusion\\n\", confusion)\n",
        "    print(\"Accuracy: {0:.4f}, precision: {1:.4f}, recall: {2:.4f}, F1:{3:.4f}\\n\".format(accuracy, precision, recall, f1))\n",
        ""
      ]
    },
    {
      "cell_type": "code",
      "execution_count": null,
      "metadata": {
        "id": "mPzgAudinu4A"
      },
      "outputs": [],
      "source": [
        "def get_model_train_eval(model, ftr_train = None, ftr_test = None, tgt_train = None, tgt_test = None):\n",
        "    model.fit(ftr_train, tgt_train)\n",
        "    pred = model.predict(ftr_test)\n",
        "    pred_proba = model.predict_proba(ftr_test)[:, 1]\n",
        "    get_clf_eval(tgt_test, pred, pred_proba)"
      ]
    },
    {
      "cell_type": "code",
      "execution_count": null,
      "metadata": {
        "colab": {
          "base_uri": "https://localhost:8080/"
        },
        "id": "wD2fAGQ-Oz_X",
        "outputId": "9d831051-da8f-496c-ba18-352965650a6c"
      },
      "outputs": [
        {
          "name": "stderr",
          "output_type": "stream",
          "text": [
            "/home/intern/chaeyoon/anaconda3/envs/wco/lib/python3.7/site-packages/xgboost/sklearn.py:1146: UserWarning: The use of label encoder in XGBClassifier is deprecated and will be removed in a future release. To remove this warning, do the following: 1) Pass option use_label_encoder=False when constructing XGBClassifier object; and 2) Encode your labels (y) as integers starting with 0, i.e. 0, 1, 2, ..., [num_class - 1].\n",
            "  warnings.warn(label_encoder_deprecation_msg, UserWarning)\n"
          ]
        },
        {
          "name": "stdout",
          "output_type": "stream",
          "text": [
            "confusion\n",
            " [[5448  982]\n",
            " [ 657 1047]]\n",
            "Accuracy: 0.7985, precision: 0.7042, recall: 0.7309, F1:0.7151\n",
            "\n",
            "\n",
            " Time taken: 0 hours 0 minutes and 2.58 seconds.\n"
          ]
        }
      ],
      "source": [
        "start_time = timer(None)\n",
        "\n",
        "get_model_train_eval(xgb_model, ftr_train = X_train_over, ftr_test = X_valid,\n",
        "                      tgt_train = y_train_over, tgt_test = y_valid)\n",
        "timer(start_time)"
      ]
    },
    {
      "cell_type": "markdown",
      "metadata": {
        "id": "I5UzDpDKOz_X"
      },
      "source": [
        "## 4. Save trained model"
      ]
    },
    {
      "cell_type": "code",
      "execution_count": null,
      "metadata": {
        "id": "BYWRAuFbOz_Y"
      },
      "outputs": [],
      "source": [
        "import pickle\n",
        "file_name = \"./model/xgb_reg_eng.pkl\"\n",
        "os.makedirs('./model/', exist_ok = True)\n",
        "\n",
        "# save\n",
        "pickle.dump(xgb_model, open(file_name, \"wb\"))"
      ]
    },
    {
      "cell_type": "markdown",
      "metadata": {
        "id": "POaSSyYtOz_Y"
      },
      "source": [
        "## 5. Feature Importance"
      ]
    },
    {
      "cell_type": "code",
      "execution_count": null,
      "metadata": {
        "colab": {
          "base_uri": "https://localhost:8080/",
          "height": 312
        },
        "id": "8DIZmGB1Oz_Y",
        "outputId": "360ac662-09e6-4e79-f2ec-27aeb4351f65"
      },
      "outputs": [
        {
          "data": {
            "text/plain": [
              "<AxesSubplot:title={'center':'Feature importance'}, xlabel='F score', ylabel='Features'>"
            ]
          },
          "execution_count": 15,
          "metadata": {},
          "output_type": "execute_result"
        },
        {
          "data": {
            "image/png": "[encoded data removed]",
            "text/plain": [
              "<Figure size 432x288 with 1 Axes>"
            ]
          },
          "metadata": {
            "needs_background": "light"
          },
          "output_type": "display_data"
        }
      ],
      "source": [
        "%matplotlib inline\n",
        "from xgboost import plot_importance\n",
        "\n",
        "plot_importance(xgb_model, max_num_features=20)"
      ]
    },
    {
      "cell_type": "markdown",
      "metadata": {
        "id": "W0-x_CUpOz_Y"
      },
      "source": [
        "## 6. Evaluate model performance by comparing Prediction Result & Ground Truth"
      ]
    },
    {
      "cell_type": "code",
      "execution_count": null,
      "metadata": {
        "colab": {
          "base_uri": "https://localhost:8080/"
        },
        "id": "25hb90S6Oz_Z",
        "outputId": "cea6980a-7f3d-4062-b196-b7729acef1b0"
      },
      "outputs": [
        {
          "name": "stdout",
          "output_type": "stream",
          "text": [
            "confusion\n",
            " [[5638 1008]\n",
            " [ 704 1131]]\n",
            "Accuracy: 0.7981, precision: 0.7089, recall: 0.7323, F1:0.7187\n",
            "\n"
          ]
        }
      ],
      "source": [
        "X_test = pd.read_csv('./data_enc/encoded_test_eng.csv')\n",
        "y_test = pd.read_csv('./data_enc/y_test_eng.csv')\n",
        "\n",
        "import pickle\n",
        "file_name = \"./model/xgb_reg_eng.pkl\"\n",
        "\n",
        "# load\n",
        "xgb_model = pickle.load(open(file_name, \"rb\"))\n",
        "\n",
        "pred_test = xgb_model.predict(X_test)\n",
        "get_clf_eval(y_test, pred_test, None)"
      ]
    },
    {
      "cell_type": "code",
      "execution_count": null,
      "metadata": {
        "id": "-j5BPlyUf0FX"
      },
      "outputs": [],
      "source": [
        "df_test = pd.read_csv('./data/df_syn_test_eng.csv')\n",
        "df_test[\"Fraud_Prediction\"] = pred_test\n",
        "df_test.to_csv('./data/predict_test_eng.csv', index=None)"
      ]
    }
  ],
  "metadata": {
    "colab": {
      "provenance": [],
      "include_colab_link": true
    },
    "gpuClass": "standard",
    "kernelspec": {
      "display_name": "wco",
      "language": "python",
      "name": "wco"
    },
    "language_info": {
      "codemirror_mode": {
        "name": "ipython",
        "version": 3
      },
      "file_extension": ".py",
      "mimetype": "text/x-python",
      "name": "python",
      "nbconvert_exporter": "python",
      "pygments_lexer": "ipython3",
      "version": "3.7.10"
    }
  },
  "nbformat": 4,
  "nbformat_minor": 0
}