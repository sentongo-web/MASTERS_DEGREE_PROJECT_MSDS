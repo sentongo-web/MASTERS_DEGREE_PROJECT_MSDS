{
  "nbformat": 4,
  "nbformat_minor": 0,
  "metadata": {
    "colab": {
      "provenance": [],
      "authorship_tag": "ABX9TyNAhQy+hVVwnSrAGLSmZDGg",
      "include_colab_link": true
    },
    "kernelspec": {
      "name": "python3",
      "display_name": "Python 3"
    },
    "language_info": {
      "name": "python"
    }
  },
  "cells": [
    {
      "cell_type": "markdown",
      "metadata": {
        "id": "view-in-github",
        "colab_type": "text"
      },
      "source": [
        "<a href=\"https://colab.research.google.com/github/sentongo-web/MASTERS_DEGREE_PROJECT_MSDS/blob/main/Training_CT_GAN_on_real_imports_declaration_data.ipynb\" target=\"_parent\"><img src=\"https://colab.research.google.com/assets/colab-badge.svg\" alt=\"Open In Colab\"/></a>"
      ]
    },
    {
      "cell_type": "markdown",
      "source": [
        "## We train CT GAN on real import declaration dataset from 2013-2023\n",
        "\n",
        "Further Reading about CT GAN: https://pypi.org/project/ctgan/\n"
      ],
      "metadata": {
        "id": "jqZf7S_Fghai"
      }
    },
    {
      "cell_type": "code",
      "source": [
        "import pandas as pd\n",
        "from ctgan import CTGAN\n",
        "from sklearn.model_selection import train_test_split"
      ],
      "metadata": {
        "id": "-unxwDzkfSH_"
      },
      "execution_count": 10,
      "outputs": []
    },
    {
      "cell_type": "code",
      "source": [
        "#Mounting the drive since dataset is saved on the drive\n",
        "from google.colab import drive\n",
        "drive.mount('/content/drive')"
      ],
      "metadata": {
        "colab": {
          "base_uri": "https://localhost:8080/"
        },
        "id": "8ixJhRHLgzBs",
        "outputId": "f818e05d-c948-4d2a-d97f-8cde9744a661"
      },
      "execution_count": 11,
      "outputs": [
        {
          "output_type": "stream",
          "name": "stdout",
          "text": [
            "Mounted at /content/drive\n"
          ]
        }
      ]
    },
    {
      "cell_type": "code",
      "source": [
        "#setting path for the data dictionary and the dataset\n",
        "file_path = '/content/drive/My Drive/ScaleDown.xlsx'\n",
        "dict_path = '/content/drive/My Drive/Data_Dictionary.xlsx'"
      ],
      "metadata": {
        "id": "hb6d1gKNhUvT"
      },
      "execution_count": 12,
      "outputs": []
    },
    {
      "cell_type": "code",
      "source": [
        "#Reading the dataset and the data dictionary\n",
        "data = pd.read_excel(file_path)\n",
        "data_dict = pd.read_excel(dict_path)"
      ],
      "metadata": {
        "id": "P_IAQLwdhc7j"
      },
      "execution_count": 13,
      "outputs": []
    },
    {
      "cell_type": "code",
      "source": [
        "#To check the data types of the variables in the dataset\n",
        "data.info()"
      ],
      "metadata": {
        "colab": {
          "base_uri": "https://localhost:8080/"
        },
        "id": "0Tcy7AzBlUI6",
        "outputId": "25bd01c7-a7ca-4cb9-d429-19ea9130330a"
      },
      "execution_count": 14,
      "outputs": [
        {
          "output_type": "stream",
          "name": "stdout",
          "text": [
            "<class 'pandas.core.frame.DataFrame'>\n",
            "RangeIndex: 1048575 entries, 0 to 1048574\n",
            "Data columns (total 85 columns):\n",
            " #   Column           Non-Null Count    Dtype  \n",
            "---  ------           --------------    -----  \n",
            " 0   INSTANCEID       1048575 non-null  int64  \n",
            " 1   KEY_ITM_NBR      1048575 non-null  int64  \n",
            " 2   PCK_NBR          992454 non-null   float64\n",
            " 3   CONC             1048575 non-null  int64  \n",
            " 4   TAR_SUP_QTY      113 non-null      float64\n",
            " 5   PCK_MRK1         983757 non-null   object \n",
            " 6   PCK_MRK2         405762 non-null   object \n",
            " 7   PCK_TYP_COD      757517 non-null   object \n",
            " 8   PCK_TYP_NAM      990697 non-null   object \n",
            " 9   TAR_HSC_NB1      1047822 non-null  float64\n",
            " 10  TAR_PRC_EXT      992460 non-null   float64\n",
            " 11  TAR_PRC_NAT      992443 non-null   float64\n",
            " 12  TAR_QUO          6174 non-null     object \n",
            " 13  TAR_PRI          697458 non-null   float64\n",
            " 14  TAR_VMT          7 non-null        object \n",
            " 15  TAR_AIC          0 non-null        float64\n",
            " 16  GDS_ORG_CTY      1047493 non-null  object \n",
            " 17  GDS_DSC          1014300 non-null  object \n",
            " 18  TAX_AMT          1031847 non-null  float64\n",
            " 19  VIT_WGT_GRS      992545 non-null   float64\n",
            " 20  VIT_WGT_NET      992529 non-null   float64\n",
            " 21  VIT_CST          992225 non-null   float64\n",
            " 22  VIT_CIF          992356 non-null   float64\n",
            " 23  VIT_ADJ          306860 non-null   float64\n",
            " 24  VIT_STV          992537 non-null   float64\n",
            " 25  VIT_ALP          347267 non-null   float64\n",
            " 26  VIT_INV_AMT_NMU  992303 non-null   float64\n",
            " 27  VIT_INV_AMT_FCX  1047821 non-null  float64\n",
            " 28  VIT_INV_CUR_COD  958119 non-null   object \n",
            " 29  VIT_INV_CUR_NAM  221524 non-null   object \n",
            " 30  VIT_INV_CUR_RAT  1047534 non-null  float64\n",
            " 31  VIT_INV_CUR_REF  892591 non-null   float64\n",
            " 32  VIT_EFR_AMT_NMU  982590 non-null   float64\n",
            " 33  VIT_EFR_AMT_FCX  968957 non-null   float64\n",
            " 34  VIT_EFR_CUR_COD  477859 non-null   object \n",
            " 35  VIT_EFR_CUR_NAM  584225 non-null   object \n",
            " 36  VIT_EFR_CUR_RAT  1030902 non-null  float64\n",
            " 37  VIT_EFR_CUR_REF  453358 non-null   float64\n",
            " 38  VIT_IFR_AMT_NMU  991566 non-null   float64\n",
            " 39  VIT_IFR_AMT_FCX  650242 non-null   float64\n",
            " 40  VIT_IFR_CUR_COD  3096 non-null     object \n",
            " 41  VIT_IFR_CUR_NAM  990384 non-null   object \n",
            " 42  VIT_IFR_CUR_RAT  992215 non-null   float64\n",
            " 43  VIT_IFR_CUR_REF  3340 non-null     float64\n",
            " 44  VIT_INS_AMT_NMU  990933 non-null   float64\n",
            " 45  VIT_INS_AMT_FCX  968887 non-null   float64\n",
            " 46  VIT_INS_CUR_COD  477343 non-null   object \n",
            " 47  VIT_INS_CUR_NAM  580576 non-null   object \n",
            " 48  VIT_INS_CUR_RAT  1030936 non-null  float64\n",
            " 49  VIT_INS_CUR_REF  453117 non-null   float64\n",
            " 50  VIT_OTC_AMT_NMU  982179 non-null   float64\n",
            " 51  VIT_OTC_AMT_FCX  651230 non-null   float64\n",
            " 52  VIT_OTC_CUR_COD  119 non-null      object \n",
            " 53  VIT_OTC_CUR_NAM  991407 non-null   object \n",
            " 54  VIT_OTC_CUR_RAT  992184 non-null   float64\n",
            " 55  VIT_OTC_CUR_REF  124 non-null      float64\n",
            " 56  VIT_DED_AMT_NMU  982569 non-null   float64\n",
            " 57  VIT_DED_AMT_FCX  650227 non-null   float64\n",
            " 58  VIT_DED_CUR_COD  49 non-null       object \n",
            " 59  VIT_DED_CUR_NAM  991441 non-null   object \n",
            " 60  VIT_DED_CUR_RAT  992173 non-null   float64\n",
            " 61  VIT_DED_CUR_REF  55 non-null       float64\n",
            " 62  VIT_MKT_RAT      0 non-null        float64\n",
            " 63  VIT_MKT_CUR      0 non-null        float64\n",
            " 64  VIT_MKT_AMT      992406 non-null   float64\n",
            " 65  VIT_MKT_BSE_DSC  0 non-null        float64\n",
            " 66  VIT_MKT_BSE_AMT  0 non-null        float64\n",
            " 67  BLK_VIN          0 non-null        float64\n",
            " 68  BLK_SRP          0 non-null        float64\n",
            " 69  BLK_FOB          0 non-null        float64\n",
            " 70  QUO_ID           6156 non-null     float64\n",
            " 71  QUO_ITM_NBR      6156 non-null     float64\n",
            " 72  TAR_HSC_TSC_DAT  0 non-null        float64\n",
            " 73  TAR_HSC_TSC_STA  0 non-null        float64\n",
            " 74  LNK_TPT_SLN      3990 non-null     object \n",
            " 75  FLP1             1048575 non-null  object \n",
            " 76  DOC_REF_DAT      0 non-null        float64\n",
            " 77  DOC_REF_NBR      0 non-null        float64\n",
            " 78  WRI_SUP_COD      0 non-null        float64\n",
            " 79  WRI_SUP_NAM      0 non-null        float64\n",
            " 80  WRI_SUP_QTY      0 non-null        float64\n",
            " 81  WRI_PRG          0 non-null        float64\n",
            " 82  TAR_HSC_NB3      468 non-null      float64\n",
            " 83  GDS_DS3          11955 non-null    object \n",
            " 84  LNK_TPT          891795 non-null   object \n",
            "dtypes: float64(58), int64(3), object(24)\n",
            "memory usage: 680.0+ MB\n"
          ]
        }
      ]
    },
    {
      "cell_type": "markdown",
      "source": [
        "Shape of the original dataset"
      ],
      "metadata": {
        "id": "Xb24AI2jlhJ3"
      }
    },
    {
      "cell_type": "code",
      "source": [
        "# To check the shape of the dataset\n",
        "data.shape"
      ],
      "metadata": {
        "colab": {
          "base_uri": "https://localhost:8080/"
        },
        "id": "A-hWNpyAlkJ_",
        "outputId": "ccbe1fd8-dd92-4450-abf1-573e6660ba1b"
      },
      "execution_count": 15,
      "outputs": [
        {
          "output_type": "execute_result",
          "data": {
            "text/plain": [
              "(1048575, 85)"
            ]
          },
          "metadata": {},
          "execution_count": 15
        }
      ]
    },
    {
      "cell_type": "code",
      "source": [
        "import numpy as np\n",
        "#Creating UNIT_PRICE_LOCAL\n",
        "    # Handling potential division by zero or missing values\n",
        "\n",
        "data['UNIT_PRICE_LOCAL'] = np.where(\n",
        "        (data['TAR_SUP_QTY'].notna()) & (data['TAR_SUP_QTY'] != 0),\n",
        "        data['VIT_INV_AMT_NMU'] / data['TAR_SUP_QTY'],\n",
        "        np.nan\n",
        "    )"
      ],
      "metadata": {
        "id": "nJbAoo6-lwQw"
      },
      "execution_count": 17,
      "outputs": []
    },
    {
      "cell_type": "code",
      "source": [
        "columns_to_keep = [\n",
        "    'TAR_HSC_NB1',       # Harmonized system commodity code (HS code)\n",
        "    'GDS_ORG_CTY',       # Country of origin (code)\n",
        "    'VIT_WGT_GRS',       # Gross mass (including packaging)\n",
        "    'VIT_WGT_NET',       # Net mass (excluding packaging)\n",
        "    'TAR_PRI',           # Item price\n",
        "    'VIT_CIF',           # CIF (Cost, Insurance, and Freight) value in local currency\n",
        "    'TAX_AMT',           # Duties and taxes amount for the item\n",
        "    'UNIT_PRICE_LOCAL',  # Unit price in local currency\n",
        "    'TAR_VMT',           # Valuation method\n",
        "    'VIT_INV_AMT_NMU',   # Invoice amount in national monetary units\n",
        "    'VIT_INV_CUR_COD',   # Currency code for the invoice\n",
        "    'VIT_CST',           # Amount of added costs in national currency\n",
        "    'VIT_IFR_AMT_NMU',   # Amount of internal freight in national currency\n",
        "    'VIT_OTC_AMT_NMU'    # Additional charges in national monetary units\n",
        "]\n",
        "\n",
        "data_processed = data[columns_to_keep].copy()"
      ],
      "metadata": {
        "id": "uwjcBBJ7l-yI"
      },
      "execution_count": 18,
      "outputs": []
    },
    {
      "cell_type": "code",
      "source": [
        "# Select the columns\n",
        "data_processed = data[columns_to_keep].copy()"
      ],
      "metadata": {
        "id": "CSDMth0vnwKX"
      },
      "execution_count": 19,
      "outputs": []
    },
    {
      "cell_type": "code",
      "source": [
        "# Rename the columns (if needed, otherwise you can skip this step)\n",
        "columns_rename = {\n",
        "    'TAR_HSC_NB1': 'HS_Code',\n",
        "    'GDS_ORG_CTY': 'Country_of_Origin',\n",
        "    'VIT_WGT_GRS': 'Gross_Mass',\n",
        "    'VIT_WGT_NET': 'Net_Mass',\n",
        "    'TAR_PRI': 'Item_Price',\n",
        "    'VIT_CIF': 'CIF_Value',\n",
        "    'TAX_AMT': 'Duties_Taxes',\n",
        "    'UNIT_PRICE_LOCAL': 'Unit_Price_Local',\n",
        "    'TAR_VMT': 'Valuation_Method',\n",
        "    'VIT_INV_AMT_NMU': 'Invoice_Amount_NMU',\n",
        "    'VIT_INV_CUR_COD': 'Invoice_Currency_Code',\n",
        "    'VIT_CST': 'Added_Costs',\n",
        "    'VIT_IFR_AMT_NMU': 'Internal_Freight_NMU',\n",
        "    'VIT_OTC_AMT_NMU': 'Additional_Charges_NMU'\n",
        "}\n",
        "\n",
        "# Rename columns\n",
        "data_processed.rename(columns=columns_rename, inplace=True)\n",
        "\n",
        "# Export to Excel\n",
        "data_processed.to_excel('uganda_imports.xlsx', index=False)"
      ],
      "metadata": {
        "id": "z8zqa5AEn9v3"
      },
      "execution_count": 20,
      "outputs": []
    },
    {
      "cell_type": "code",
      "source": [
        "data_processed.head()"
      ],
      "metadata": {
        "colab": {
          "base_uri": "https://localhost:8080/",
          "height": 226
        },
        "id": "wQiWRWZCpniO",
        "outputId": "24925eda-4d1e-4fe3-9e6c-08cd99235040"
      },
      "execution_count": 21,
      "outputs": [
        {
          "output_type": "execute_result",
          "data": {
            "text/plain": [
              "      HS_Code Country_of_Origin  Gross_Mass  Net_Mass  Item_Price  CIF_Value  \\\n",
              "0  85441900.0                CN      927.72    920.43      806.92     806.92   \n",
              "1  69010000.0                CN    21399.86  20000.00     2366.95    2366.95   \n",
              "2  83023000.0                CN       77.82     50.00      308.73     308.73   \n",
              "3  94015000.0                CN      194.54    150.00     1285.39    1285.39   \n",
              "4  94031000.0                CN      194.54    150.00     1344.86    1344.86   \n",
              "\n",
              "   Duties_Taxes  Unit_Price_Local Valuation_Method  Invoice_Amount_NMU  \\\n",
              "0       1035.37               NaN              NaN              806.92   \n",
              "1        380.94               NaN              NaN             2366.95   \n",
              "2         74.44               NaN              NaN              308.73   \n",
              "3        447.56           257.078              NaN             1285.39   \n",
              "4        468.26           268.972              NaN             1344.86   \n",
              "\n",
              "  Invoice_Currency_Code  Added_Costs  Internal_Freight_NMU  \\\n",
              "0                   USD          0.0                   0.0   \n",
              "1                   USD          0.0                   0.0   \n",
              "2                   USD          0.0                   0.0   \n",
              "3                   USD          0.0                   0.0   \n",
              "4                   USD          0.0                   0.0   \n",
              "\n",
              "   Additional_Charges_NMU  \n",
              "0                     0.0  \n",
              "1                     0.0  \n",
              "2                     0.0  \n",
              "3                     0.0  \n",
              "4                     0.0  "
            ],
            "text/html": [
              "\n",
              "  <div id=\"df-7e258329-8716-4624-9e71-5fa835d2ddb8\" class=\"colab-df-container\">\n",
              "    <div>\n",
              "<style scoped>\n",
              "    .dataframe tbody tr th:only-of-type {\n",
              "        vertical-align: middle;\n",
              "    }\n",
              "\n",
              "    .dataframe tbody tr th {\n",
              "        vertical-align: top;\n",
              "    }\n",
              "\n",
              "    .dataframe thead th {\n",
              "        text-align: right;\n",
              "    }\n",
              "</style>\n",
              "<table border=\"1\" class=\"dataframe\">\n",
              "  <thead>\n",
              "    <tr style=\"text-align: right;\">\n",
              "      <th></th>\n",
              "      <th>HS_Code</th>\n",
              "      <th>Country_of_Origin</th>\n",
              "      <th>Gross_Mass</th>\n",
              "      <th>Net_Mass</th>\n",
              "      <th>Item_Price</th>\n",
              "      <th>CIF_Value</th>\n",
              "      <th>Duties_Taxes</th>\n",
              "      <th>Unit_Price_Local</th>\n",
              "      <th>Valuation_Method</th>\n",
              "      <th>Invoice_Amount_NMU</th>\n",
              "      <th>Invoice_Currency_Code</th>\n",
              "      <th>Added_Costs</th>\n",
              "      <th>Internal_Freight_NMU</th>\n",
              "      <th>Additional_Charges_NMU</th>\n",
              "    </tr>\n",
              "  </thead>\n",
              "  <tbody>\n",
              "    <tr>\n",
              "      <th>0</th>\n",
              "      <td>85441900.0</td>\n",
              "      <td>CN</td>\n",
              "      <td>927.72</td>\n",
              "      <td>920.43</td>\n",
              "      <td>806.92</td>\n",
              "      <td>806.92</td>\n",
              "      <td>1035.37</td>\n",
              "      <td>NaN</td>\n",
              "      <td>NaN</td>\n",
              "      <td>806.92</td>\n",
              "      <td>USD</td>\n",
              "      <td>0.0</td>\n",
              "      <td>0.0</td>\n",
              "      <td>0.0</td>\n",
              "    </tr>\n",
              "    <tr>\n",
              "      <th>1</th>\n",
              "      <td>69010000.0</td>\n",
              "      <td>CN</td>\n",
              "      <td>21399.86</td>\n",
              "      <td>20000.00</td>\n",
              "      <td>2366.95</td>\n",
              "      <td>2366.95</td>\n",
              "      <td>380.94</td>\n",
              "      <td>NaN</td>\n",
              "      <td>NaN</td>\n",
              "      <td>2366.95</td>\n",
              "      <td>USD</td>\n",
              "      <td>0.0</td>\n",
              "      <td>0.0</td>\n",
              "      <td>0.0</td>\n",
              "    </tr>\n",
              "    <tr>\n",
              "      <th>2</th>\n",
              "      <td>83023000.0</td>\n",
              "      <td>CN</td>\n",
              "      <td>77.82</td>\n",
              "      <td>50.00</td>\n",
              "      <td>308.73</td>\n",
              "      <td>308.73</td>\n",
              "      <td>74.44</td>\n",
              "      <td>NaN</td>\n",
              "      <td>NaN</td>\n",
              "      <td>308.73</td>\n",
              "      <td>USD</td>\n",
              "      <td>0.0</td>\n",
              "      <td>0.0</td>\n",
              "      <td>0.0</td>\n",
              "    </tr>\n",
              "    <tr>\n",
              "      <th>3</th>\n",
              "      <td>94015000.0</td>\n",
              "      <td>CN</td>\n",
              "      <td>194.54</td>\n",
              "      <td>150.00</td>\n",
              "      <td>1285.39</td>\n",
              "      <td>1285.39</td>\n",
              "      <td>447.56</td>\n",
              "      <td>257.078</td>\n",
              "      <td>NaN</td>\n",
              "      <td>1285.39</td>\n",
              "      <td>USD</td>\n",
              "      <td>0.0</td>\n",
              "      <td>0.0</td>\n",
              "      <td>0.0</td>\n",
              "    </tr>\n",
              "    <tr>\n",
              "      <th>4</th>\n",
              "      <td>94031000.0</td>\n",
              "      <td>CN</td>\n",
              "      <td>194.54</td>\n",
              "      <td>150.00</td>\n",
              "      <td>1344.86</td>\n",
              "      <td>1344.86</td>\n",
              "      <td>468.26</td>\n",
              "      <td>268.972</td>\n",
              "      <td>NaN</td>\n",
              "      <td>1344.86</td>\n",
              "      <td>USD</td>\n",
              "      <td>0.0</td>\n",
              "      <td>0.0</td>\n",
              "      <td>0.0</td>\n",
              "    </tr>\n",
              "  </tbody>\n",
              "</table>\n",
              "</div>\n",
              "    <div class=\"colab-df-buttons\">\n",
              "\n",
              "  <div class=\"colab-df-container\">\n",
              "    <button class=\"colab-df-convert\" onclick=\"convertToInteractive('df-7e258329-8716-4624-9e71-5fa835d2ddb8')\"\n",
              "            title=\"Convert this dataframe to an interactive table.\"\n",
              "            style=\"display:none;\">\n",
              "\n",
              "  <svg xmlns=\"http://www.w3.org/2000/svg\" height=\"24px\" viewBox=\"0 -960 960 960\">\n",
              "    <path d=\"M120-120v-720h720v720H120Zm60-500h600v-160H180v160Zm220 220h160v-160H400v160Zm0 220h160v-160H400v160ZM180-400h160v-160H180v160Zm440 0h160v-160H620v160ZM180-180h160v-160H180v160Zm440 0h160v-160H620v160Z\"/>\n",
              "  </svg>\n",
              "    </button>\n",
              "\n",
              "  <style>\n",
              "    .colab-df-container {\n",
              "      display:flex;\n",
              "      gap: 12px;\n",
              "    }\n",
              "\n",
              "    .colab-df-convert {\n",
              "      background-color: #E8F0FE;\n",
              "      border: none;\n",
              "      border-radius: 50%;\n",
              "      cursor: pointer;\n",
              "      display: none;\n",
              "      fill: #1967D2;\n",
              "      height: 32px;\n",
              "      padding: 0 0 0 0;\n",
              "      width: 32px;\n",
              "    }\n",
              "\n",
              "    .colab-df-convert:hover {\n",
              "      background-color: #E2EBFA;\n",
              "      box-shadow: 0px 1px 2px rgba(60, 64, 67, 0.3), 0px 1px 3px 1px rgba(60, 64, 67, 0.15);\n",
              "      fill: #174EA6;\n",
              "    }\n",
              "\n",
              "    .colab-df-buttons div {\n",
              "      margin-bottom: 4px;\n",
              "    }\n",
              "\n",
              "    [theme=dark] .colab-df-convert {\n",
              "      background-color: #3B4455;\n",
              "      fill: #D2E3FC;\n",
              "    }\n",
              "\n",
              "    [theme=dark] .colab-df-convert:hover {\n",
              "      background-color: #434B5C;\n",
              "      box-shadow: 0px 1px 3px 1px rgba(0, 0, 0, 0.15);\n",
              "      filter: drop-shadow(0px 1px 2px rgba(0, 0, 0, 0.3));\n",
              "      fill: #FFFFFF;\n",
              "    }\n",
              "  </style>\n",
              "\n",
              "    <script>\n",
              "      const buttonEl =\n",
              "        document.querySelector('#df-7e258329-8716-4624-9e71-5fa835d2ddb8 button.colab-df-convert');\n",
              "      buttonEl.style.display =\n",
              "        google.colab.kernel.accessAllowed ? 'block' : 'none';\n",
              "\n",
              "      async function convertToInteractive(key) {\n",
              "        const element = document.querySelector('#df-7e258329-8716-4624-9e71-5fa835d2ddb8');\n",
              "        const dataTable =\n",
              "          await google.colab.kernel.invokeFunction('convertToInteractive',\n",
              "                                                    [key], {});\n",
              "        if (!dataTable) return;\n",
              "\n",
              "        const docLinkHtml = 'Like what you see? Visit the ' +\n",
              "          '<a target=\"_blank\" href=https://colab.research.google.com/notebooks/data_table.ipynb>data table notebook</a>'\n",
              "          + ' to learn more about interactive tables.';\n",
              "        element.innerHTML = '';\n",
              "        dataTable['output_type'] = 'display_data';\n",
              "        await google.colab.output.renderOutput(dataTable, element);\n",
              "        const docLink = document.createElement('div');\n",
              "        docLink.innerHTML = docLinkHtml;\n",
              "        element.appendChild(docLink);\n",
              "      }\n",
              "    </script>\n",
              "  </div>\n",
              "\n",
              "\n",
              "<div id=\"df-f79e95d2-a4c2-4d31-9fc0-e4d21571f470\">\n",
              "  <button class=\"colab-df-quickchart\" onclick=\"quickchart('df-f79e95d2-a4c2-4d31-9fc0-e4d21571f470')\"\n",
              "            title=\"Suggest charts\"\n",
              "            style=\"display:none;\">\n",
              "\n",
              "<svg xmlns=\"http://www.w3.org/2000/svg\" height=\"24px\"viewBox=\"0 0 24 24\"\n",
              "     width=\"24px\">\n",
              "    <g>\n",
              "        <path d=\"M19 3H5c-1.1 0-2 .9-2 2v14c0 1.1.9 2 2 2h14c1.1 0 2-.9 2-2V5c0-1.1-.9-2-2-2zM9 17H7v-7h2v7zm4 0h-2V7h2v10zm4 0h-2v-4h2v4z\"/>\n",
              "    </g>\n",
              "</svg>\n",
              "  </button>\n",
              "\n",
              "<style>\n",
              "  .colab-df-quickchart {\n",
              "      --bg-color: #E8F0FE;\n",
              "      --fill-color: #1967D2;\n",
              "      --hover-bg-color: #E2EBFA;\n",
              "      --hover-fill-color: #174EA6;\n",
              "      --disabled-fill-color: #AAA;\n",
              "      --disabled-bg-color: #DDD;\n",
              "  }\n",
              "\n",
              "  [theme=dark] .colab-df-quickchart {\n",
              "      --bg-color: #3B4455;\n",
              "      --fill-color: #D2E3FC;\n",
              "      --hover-bg-color: #434B5C;\n",
              "      --hover-fill-color: #FFFFFF;\n",
              "      --disabled-bg-color: #3B4455;\n",
              "      --disabled-fill-color: #666;\n",
              "  }\n",
              "\n",
              "  .colab-df-quickchart {\n",
              "    background-color: var(--bg-color);\n",
              "    border: none;\n",
              "    border-radius: 50%;\n",
              "    cursor: pointer;\n",
              "    display: none;\n",
              "    fill: var(--fill-color);\n",
              "    height: 32px;\n",
              "    padding: 0;\n",
              "    width: 32px;\n",
              "  }\n",
              "\n",
              "  .colab-df-quickchart:hover {\n",
              "    background-color: var(--hover-bg-color);\n",
              "    box-shadow: 0 1px 2px rgba(60, 64, 67, 0.3), 0 1px 3px 1px rgba(60, 64, 67, 0.15);\n",
              "    fill: var(--button-hover-fill-color);\n",
              "  }\n",
              "\n",
              "  .colab-df-quickchart-complete:disabled,\n",
              "  .colab-df-quickchart-complete:disabled:hover {\n",
              "    background-color: var(--disabled-bg-color);\n",
              "    fill: var(--disabled-fill-color);\n",
              "    box-shadow: none;\n",
              "  }\n",
              "\n",
              "  .colab-df-spinner {\n",
              "    border: 2px solid var(--fill-color);\n",
              "    border-color: transparent;\n",
              "    border-bottom-color: var(--fill-color);\n",
              "    animation:\n",
              "      spin 1s steps(1) infinite;\n",
              "  }\n",
              "\n",
              "  @keyframes spin {\n",
              "    0% {\n",
              "      border-color: transparent;\n",
              "      border-bottom-color: var(--fill-color);\n",
              "      border-left-color: var(--fill-color);\n",
              "    }\n",
              "    20% {\n",
              "      border-color: transparent;\n",
              "      border-left-color: var(--fill-color);\n",
              "      border-top-color: var(--fill-color);\n",
              "    }\n",
              "    30% {\n",
              "      border-color: transparent;\n",
              "      border-left-color: var(--fill-color);\n",
              "      border-top-color: var(--fill-color);\n",
              "      border-right-color: var(--fill-color);\n",
              "    }\n",
              "    40% {\n",
              "      border-color: transparent;\n",
              "      border-right-color: var(--fill-color);\n",
              "      border-top-color: var(--fill-color);\n",
              "    }\n",
              "    60% {\n",
              "      border-color: transparent;\n",
              "      border-right-color: var(--fill-color);\n",
              "    }\n",
              "    80% {\n",
              "      border-color: transparent;\n",
              "      border-right-color: var(--fill-color);\n",
              "      border-bottom-color: var(--fill-color);\n",
              "    }\n",
              "    90% {\n",
              "      border-color: transparent;\n",
              "      border-bottom-color: var(--fill-color);\n",
              "    }\n",
              "  }\n",
              "</style>\n",
              "\n",
              "  <script>\n",
              "    async function quickchart(key) {\n",
              "      const quickchartButtonEl =\n",
              "        document.querySelector('#' + key + ' button');\n",
              "      quickchartButtonEl.disabled = true;  // To prevent multiple clicks.\n",
              "      quickchartButtonEl.classList.add('colab-df-spinner');\n",
              "      try {\n",
              "        const charts = await google.colab.kernel.invokeFunction(\n",
              "            'suggestCharts', [key], {});\n",
              "      } catch (error) {\n",
              "        console.error('Error during call to suggestCharts:', error);\n",
              "      }\n",
              "      quickchartButtonEl.classList.remove('colab-df-spinner');\n",
              "      quickchartButtonEl.classList.add('colab-df-quickchart-complete');\n",
              "    }\n",
              "    (() => {\n",
              "      let quickchartButtonEl =\n",
              "        document.querySelector('#df-f79e95d2-a4c2-4d31-9fc0-e4d21571f470 button');\n",
              "      quickchartButtonEl.style.display =\n",
              "        google.colab.kernel.accessAllowed ? 'block' : 'none';\n",
              "    })();\n",
              "  </script>\n",
              "</div>\n",
              "\n",
              "    </div>\n",
              "  </div>\n"
            ],
            "application/vnd.google.colaboratory.intrinsic+json": {
              "type": "dataframe",
              "variable_name": "data_processed"
            }
          },
          "metadata": {},
          "execution_count": 21
        }
      ]
    },
    {
      "cell_type": "code",
      "source": [
        "# Export to Excel\n",
        "output_file = 'uganda_imports.xlsx'\n",
        "data_processed.to_excel(output_file, index=False)"
      ],
      "metadata": {
        "id": "4yJPhU7RqLOM"
      },
      "execution_count": 22,
      "outputs": []
    },
    {
      "cell_type": "code",
      "source": [
        "# Verify the file is saved\n",
        "import os\n",
        "print(\"Files in the current directory:\")\n",
        "print(os.listdir())\n",
        "\n",
        "# Provide a link to download the file\n",
        "from google.colab import files\n",
        "files.download(output_file)"
      ],
      "metadata": {
        "colab": {
          "base_uri": "https://localhost:8080/",
          "height": 52
        },
        "id": "7QnWPPKrsKhU",
        "outputId": "e3051362-76a8-47a4-a087-06213ed849f1"
      },
      "execution_count": 23,
      "outputs": [
        {
          "output_type": "stream",
          "name": "stdout",
          "text": [
            "Files in the current directory:\n",
            "['.config', 'uganda_imports.xlsx', 'drive', 'sample_data']\n"
          ]
        },
        {
          "output_type": "display_data",
          "data": {
            "text/plain": [
              "<IPython.core.display.Javascript object>"
            ],
            "application/javascript": [
              "\n",
              "    async function download(id, filename, size) {\n",
              "      if (!google.colab.kernel.accessAllowed) {\n",
              "        return;\n",
              "      }\n",
              "      const div = document.createElement('div');\n",
              "      const label = document.createElement('label');\n",
              "      label.textContent = `Downloading \"${filename}\": `;\n",
              "      div.appendChild(label);\n",
              "      const progress = document.createElement('progress');\n",
              "      progress.max = size;\n",
              "      div.appendChild(progress);\n",
              "      document.body.appendChild(div);\n",
              "\n",
              "      const buffers = [];\n",
              "      let downloaded = 0;\n",
              "\n",
              "      const channel = await google.colab.kernel.comms.open(id);\n",
              "      // Send a message to notify the kernel that we're ready.\n",
              "      channel.send({})\n",
              "\n",
              "      for await (const message of channel.messages) {\n",
              "        // Send a message to notify the kernel that we're ready.\n",
              "        channel.send({})\n",
              "        if (message.buffers) {\n",
              "          for (const buffer of message.buffers) {\n",
              "            buffers.push(buffer);\n",
              "            downloaded += buffer.byteLength;\n",
              "            progress.value = downloaded;\n",
              "          }\n",
              "        }\n",
              "      }\n",
              "      const blob = new Blob(buffers, {type: 'application/binary'});\n",
              "      const a = document.createElement('a');\n",
              "      a.href = window.URL.createObjectURL(blob);\n",
              "      a.download = filename;\n",
              "      div.appendChild(a);\n",
              "      a.click();\n",
              "      div.remove();\n",
              "    }\n",
              "  "
            ]
          },
          "metadata": {}
        },
        {
          "output_type": "display_data",
          "data": {
            "text/plain": [
              "<IPython.core.display.Javascript object>"
            ],
            "application/javascript": [
              "download(\"download_1f2d0e7e-d3c4-464a-98d0-2235079173ae\", \"uganda_imports.xlsx\", 61409904)"
            ]
          },
          "metadata": {}
        }
      ]
    }
  ]
}