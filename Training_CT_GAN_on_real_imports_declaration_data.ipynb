{
  "nbformat": 4,
  "nbformat_minor": 0,
  "metadata": {
    "colab": {
      "provenance": [],
      "authorship_tag": "ABX9TyOeLn1ViFQN+yDpThBhmzoh",
      "include_colab_link": true
    },
    "kernelspec": {
      "name": "python3",
      "display_name": "Python 3"
    },
    "language_info": {
      "name": "python"
    }
  },
  "cells": [
    {
      "cell_type": "markdown",
      "metadata": {
        "id": "view-in-github",
        "colab_type": "text"
      },
      "source": [
        "<a href=\"https://colab.research.google.com/github/sentongo-web/MASTERS_DEGREE_PROJECT_MSDS/blob/main/Training_CT_GAN_on_real_imports_declaration_data.ipynb\" target=\"_parent\"><img src=\"https://colab.research.google.com/assets/colab-badge.svg\" alt=\"Open In Colab\"/></a>"
      ]
    },
    {
      "cell_type": "markdown",
      "source": [
        "## We train CT GAN on real import declaration dataset from 2013-2023\n",
        "\n",
        "Further Reading about CT GAN: https://pypi.org/project/ctgan/\n"
      ],
      "metadata": {
        "id": "jqZf7S_Fghai"
      }
    },
    {
      "cell_type": "code",
      "source": [
        "import pandas as pd\n",
        "from ctgan import CTGAN\n",
        "from sklearn.model_selection import train_test_split"
      ],
      "metadata": {
        "id": "-unxwDzkfSH_"
      },
      "execution_count": 10,
      "outputs": []
    },
    {
      "cell_type": "code",
      "source": [
        "#Mounting the drive since dataset is saved on the drive\n",
        "from google.colab import drive\n",
        "drive.mount('/content/drive')"
      ],
      "metadata": {
        "colab": {
          "base_uri": "https://localhost:8080/"
        },
        "id": "8ixJhRHLgzBs",
        "outputId": "f818e05d-c948-4d2a-d97f-8cde9744a661"
      },
      "execution_count": 11,
      "outputs": [
        {
          "output_type": "stream",
          "name": "stdout",
          "text": [
            "Mounted at /content/drive\n"
          ]
        }
      ]
    },
    {
      "cell_type": "code",
      "source": [
        "#setting path for the data dictionary and the dataset\n",
        "file_path = '/content/drive/My Drive/ScaleDown.xlsx'\n",
        "dict_path = '/content/drive/My Drive/Data_Dictionary.xlsx'"
      ],
      "metadata": {
        "id": "hb6d1gKNhUvT"
      },
      "execution_count": 12,
      "outputs": []
    },
    {
      "cell_type": "code",
      "source": [
        "#Reading the dataset and the data dictionary\n",
        "data = pd.read_excel(file_path)\n",
        "data_dict = pd.read_excel(dict_path)"
      ],
      "metadata": {
        "id": "P_IAQLwdhc7j"
      },
      "execution_count": null,
      "outputs": []
    }
  ]
}